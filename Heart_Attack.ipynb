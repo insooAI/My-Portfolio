{
  "nbformat": 4,
  "nbformat_minor": 0,
  "metadata": {
    "colab": {
      "name": "Heart Attack",
      "provenance": [],
      "collapsed_sections": [],
      "toc_visible": true,
      "authorship_tag": "ABX9TyOoY1kOwhMjHrI9wOWfOeSA",
      "include_colab_link": true
    },
    "kernelspec": {
      "name": "python3",
      "display_name": "Python 3"
    }
  },
  "cells": [
    {
      "cell_type": "markdown",
      "metadata": {
        "id": "view-in-github",
        "colab_type": "text"
      },
      "source": [
        "<a href=\"https://colab.research.google.com/github/insooAI/My-Portfolio/blob/main/Heart_Attack.ipynb\" target=\"_parent\"><img src=\"https://colab.research.google.com/assets/colab-badge.svg\" alt=\"Open In Colab\"/></a>"
      ]
    },
    {
      "cell_type": "code",
      "metadata": {
        "colab": {
          "base_uri": "https://localhost:8080/"
        },
        "id": "FO8nDDfLjbJ3",
        "outputId": "0f9964c8-4b50-4117-aa82-749bcb45b7c4"
      },
      "source": [
        "from google.colab import drive\r\n",
        "drive.mount('/content/drive')"
      ],
      "execution_count": null,
      "outputs": [
        {
          "output_type": "stream",
          "text": [
            "Drive already mounted at /content/drive; to attempt to forcibly remount, call drive.mount(\"/content/drive\", force_remount=True).\n"
          ],
          "name": "stdout"
        }
      ]
    },
    {
      "cell_type": "code",
      "metadata": {
        "id": "942uSaFcjuIK"
      },
      "source": [
        "import pandas as pd\r\n",
        "import numpy as np\r\n",
        "import matplotlib.pyplot as plt\r\n",
        "import seaborn as sns\r\n",
        "from sklearn.metrics import accuracy_score\r\n",
        "from sklearn.preprocessing import StandardScaler\r\n",
        "from sklearn.model_selection import train_test_split\r\n",
        "from sklearn.model_selection import GridSearchCV\r\n",
        "from sklearn.linear_model import LogisticRegression\r\n",
        "from sklearn import metrics\r\n",
        "import warnings\r\n",
        "warnings.filterwarnings('ignore')"
      ],
      "execution_count": null,
      "outputs": []
    },
    {
      "cell_type": "code",
      "metadata": {
        "id": "TD4MBJbYD_BD"
      },
      "source": [
        "# 오분류율 함수\r\n",
        "def misc_rate(test,pred):\r\n",
        "    return 1 - accuracy_score(test,pred)"
      ],
      "execution_count": null,
      "outputs": []
    },
    {
      "cell_type": "markdown",
      "metadata": {
        "id": "O5nALjXHj2t9"
      },
      "source": [
        "# Heart Attack"
      ]
    },
    {
      "cell_type": "code",
      "metadata": {
        "id": "Zbeogb0ukC3w"
      },
      "source": [
        "train = pd.read_csv('/content/drive/My Drive/데이터/3주차/heart attack train.csv')\r\n",
        "test = pd.read_csv('/content/drive/My Drive/데이터/3주차/heart attack test.csv')"
      ],
      "execution_count": null,
      "outputs": []
    },
    {
      "cell_type": "code",
      "metadata": {
        "id": "sndo0XJ0k4ag"
      },
      "source": [
        "train = train.drop('Unnamed: 0',1)\r\n",
        "test = test.drop('Unnamed: 0',1)"
      ],
      "execution_count": null,
      "outputs": []
    },
    {
      "cell_type": "markdown",
      "metadata": {
        "id": "nZV7qrJfmj8F"
      },
      "source": [
        "## EDA"
      ]
    },
    {
      "cell_type": "code",
      "metadata": {
        "colab": {
          "base_uri": "https://localhost:8080/"
        },
        "id": "gRwcioQHmpC4",
        "outputId": "e12cfaab-1021-478e-e340-9229004bd7ff"
      },
      "source": [
        "print(train.shape)\r\n",
        "print(test.shape)"
      ],
      "execution_count": null,
      "outputs": [
        {
          "output_type": "stream",
          "text": [
            "(242, 14)\n",
            "(61, 14)\n"
          ],
          "name": "stdout"
        }
      ]
    },
    {
      "cell_type": "code",
      "metadata": {
        "colab": {
          "base_uri": "https://localhost:8080/"
        },
        "id": "RXb_rQPVl9B7",
        "outputId": "8a01ba48-aa92-4194-e954-63e3f8f9edb9"
      },
      "source": [
        "# 형태 파악 & 결측치 파악 (zero)\r\n",
        "train.info()"
      ],
      "execution_count": null,
      "outputs": [
        {
          "output_type": "stream",
          "text": [
            "<class 'pandas.core.frame.DataFrame'>\n",
            "RangeIndex: 242 entries, 0 to 241\n",
            "Data columns (total 14 columns):\n",
            " #   Column    Non-Null Count  Dtype  \n",
            "---  ------    --------------  -----  \n",
            " 0   age       242 non-null    int64  \n",
            " 1   sex       242 non-null    int64  \n",
            " 2   cp        242 non-null    int64  \n",
            " 3   trestbps  242 non-null    int64  \n",
            " 4   chol      242 non-null    int64  \n",
            " 5   fbs       242 non-null    int64  \n",
            " 6   restecg   242 non-null    int64  \n",
            " 7   thalach   242 non-null    int64  \n",
            " 8   exang     242 non-null    int64  \n",
            " 9   oldpeak   242 non-null    float64\n",
            " 10  slope     242 non-null    int64  \n",
            " 11  ca        242 non-null    int64  \n",
            " 12  thal      242 non-null    int64  \n",
            " 13  target    242 non-null    int64  \n",
            "dtypes: float64(1), int64(13)\n",
            "memory usage: 26.6 KB\n"
          ],
          "name": "stdout"
        }
      ]
    },
    {
      "cell_type": "code",
      "metadata": {
        "colab": {
          "base_uri": "https://localhost:8080/"
        },
        "id": "U7Dl7AIlmhFQ",
        "outputId": "3e9b0c56-b95b-461c-b20f-1191958f2d79"
      },
      "source": [
        "test.info()"
      ],
      "execution_count": null,
      "outputs": [
        {
          "output_type": "stream",
          "text": [
            "<class 'pandas.core.frame.DataFrame'>\n",
            "RangeIndex: 61 entries, 0 to 60\n",
            "Data columns (total 14 columns):\n",
            " #   Column    Non-Null Count  Dtype  \n",
            "---  ------    --------------  -----  \n",
            " 0   age       61 non-null     int64  \n",
            " 1   sex       61 non-null     int64  \n",
            " 2   cp        61 non-null     int64  \n",
            " 3   trestbps  61 non-null     int64  \n",
            " 4   chol      61 non-null     int64  \n",
            " 5   fbs       61 non-null     int64  \n",
            " 6   restecg   61 non-null     int64  \n",
            " 7   thalach   61 non-null     int64  \n",
            " 8   exang     61 non-null     int64  \n",
            " 9   oldpeak   61 non-null     float64\n",
            " 10  slope     61 non-null     int64  \n",
            " 11  ca        61 non-null     int64  \n",
            " 12  thal      61 non-null     int64  \n",
            " 13  target    61 non-null     int64  \n",
            "dtypes: float64(1), int64(13)\n",
            "memory usage: 6.8 KB\n"
          ],
          "name": "stdout"
        }
      ]
    },
    {
      "cell_type": "code",
      "metadata": {
        "colab": {
          "base_uri": "https://localhost:8080/"
        },
        "id": "9kW3qbCtnCIW",
        "outputId": "605a3a48-df1e-4f25-c1cb-9c95b2243582"
      },
      "source": [
        "# label 분포 파악\r\n",
        "# 그렇게 imbalanced 되어있지는 않음\r\n",
        "train['target'].value_counts()"
      ],
      "execution_count": null,
      "outputs": [
        {
          "output_type": "execute_result",
          "data": {
            "text/plain": [
              "1    134\n",
              "0    108\n",
              "Name: target, dtype: int64"
            ]
          },
          "metadata": {
            "tags": []
          },
          "execution_count": 10
        }
      ]
    },
    {
      "cell_type": "code",
      "metadata": {
        "colab": {
          "base_uri": "https://localhost:8080/"
        },
        "id": "gHBn6TcrnjW8",
        "outputId": "eec26b4b-4e9f-4b7d-882d-e7e9e8bd622b"
      },
      "source": [
        "# test['target'].value_counts()"
      ],
      "execution_count": null,
      "outputs": [
        {
          "output_type": "execute_result",
          "data": {
            "text/plain": [
              "1    31\n",
              "0    30\n",
              "Name: target, dtype: int64"
            ]
          },
          "metadata": {
            "tags": []
          },
          "execution_count": 11
        }
      ]
    },
    {
      "cell_type": "markdown",
      "metadata": {
        "id": "u_Mwkluonpz2"
      },
      "source": [
        "## Data Preprocessing (version 1)\r\n",
        "- 범주형 변수 처리 X"
      ]
    },
    {
      "cell_type": "code",
      "metadata": {
        "colab": {
          "base_uri": "https://localhost:8080/"
        },
        "id": "SbTa4n9KpMG_",
        "outputId": "8ed3d5bc-71f2-422a-8e44-b5b4436425cb"
      },
      "source": [
        "alldata = pd.concat([train,test])\r\n",
        "alldata.shape"
      ],
      "execution_count": null,
      "outputs": [
        {
          "output_type": "execute_result",
          "data": {
            "text/plain": [
              "(303, 14)"
            ]
          },
          "metadata": {
            "tags": []
          },
          "execution_count": 39
        }
      ]
    },
    {
      "cell_type": "code",
      "metadata": {
        "id": "oSdKEg5QpUfn"
      },
      "source": [
        "alldata_x = alldata.drop('target',1)\r\n",
        "alldata_y = alldata['target']"
      ],
      "execution_count": null,
      "outputs": []
    },
    {
      "cell_type": "code",
      "metadata": {
        "colab": {
          "base_uri": "https://localhost:8080/",
          "height": 407
        },
        "id": "DP36O2FAo1aP",
        "outputId": "b9c4cb8b-9b7d-4c2e-8f30-0530665ba155"
      },
      "source": [
        "# train + test data의 X 변수들 scalingb\r\n",
        "scaler = StandardScaler()\r\n",
        "alldata_scaled_x = scaler.fit_transform(alldata_x)\r\n",
        "alldata_scaled_x = pd.DataFrame(alldata_scaled_x)\r\n",
        "alldata_scaled_x"
      ],
      "execution_count": null,
      "outputs": [
        {
          "output_type": "execute_result",
          "data": {
            "text/html": [
              "<div>\n",
              "<style scoped>\n",
              "    .dataframe tbody tr th:only-of-type {\n",
              "        vertical-align: middle;\n",
              "    }\n",
              "\n",
              "    .dataframe tbody tr th {\n",
              "        vertical-align: top;\n",
              "    }\n",
              "\n",
              "    .dataframe thead th {\n",
              "        text-align: right;\n",
              "    }\n",
              "</style>\n",
              "<table border=\"1\" class=\"dataframe\">\n",
              "  <thead>\n",
              "    <tr style=\"text-align: right;\">\n",
              "      <th></th>\n",
              "      <th>0</th>\n",
              "      <th>1</th>\n",
              "      <th>2</th>\n",
              "      <th>3</th>\n",
              "      <th>4</th>\n",
              "      <th>5</th>\n",
              "      <th>6</th>\n",
              "      <th>7</th>\n",
              "      <th>8</th>\n",
              "      <th>9</th>\n",
              "      <th>10</th>\n",
              "      <th>11</th>\n",
              "      <th>12</th>\n",
              "    </tr>\n",
              "  </thead>\n",
              "  <tbody>\n",
              "    <tr>\n",
              "      <th>0</th>\n",
              "      <td>-0.260980</td>\n",
              "      <td>0.681005</td>\n",
              "      <td>1.973123</td>\n",
              "      <td>-0.778093</td>\n",
              "      <td>-1.164631</td>\n",
              "      <td>-0.417635</td>\n",
              "      <td>-1.005832</td>\n",
              "      <td>1.764663</td>\n",
              "      <td>-0.696631</td>\n",
              "      <td>-0.896862</td>\n",
              "      <td>-0.649113</td>\n",
              "      <td>-0.714429</td>\n",
              "      <td>-2.148873</td>\n",
              "    </tr>\n",
              "    <tr>\n",
              "      <th>1</th>\n",
              "      <td>1.393352</td>\n",
              "      <td>-1.468418</td>\n",
              "      <td>1.002577</td>\n",
              "      <td>1.163746</td>\n",
              "      <td>0.593988</td>\n",
              "      <td>-0.417635</td>\n",
              "      <td>0.898962</td>\n",
              "      <td>0.977514</td>\n",
              "      <td>-0.696631</td>\n",
              "      <td>-0.896862</td>\n",
              "      <td>0.976352</td>\n",
              "      <td>0.265082</td>\n",
              "      <td>-0.512922</td>\n",
              "    </tr>\n",
              "    <tr>\n",
              "      <th>2</th>\n",
              "      <td>0.290464</td>\n",
              "      <td>0.681005</td>\n",
              "      <td>1.002577</td>\n",
              "      <td>1.049520</td>\n",
              "      <td>-2.324160</td>\n",
              "      <td>2.394438</td>\n",
              "      <td>0.898962</td>\n",
              "      <td>1.021244</td>\n",
              "      <td>-0.696631</td>\n",
              "      <td>-0.724323</td>\n",
              "      <td>0.976352</td>\n",
              "      <td>0.265082</td>\n",
              "      <td>1.123029</td>\n",
              "    </tr>\n",
              "    <tr>\n",
              "      <th>3</th>\n",
              "      <td>0.290464</td>\n",
              "      <td>0.681005</td>\n",
              "      <td>0.032031</td>\n",
              "      <td>1.277972</td>\n",
              "      <td>-0.275659</td>\n",
              "      <td>-0.417635</td>\n",
              "      <td>-1.005832</td>\n",
              "      <td>0.627670</td>\n",
              "      <td>-0.696631</td>\n",
              "      <td>-0.896862</td>\n",
              "      <td>0.976352</td>\n",
              "      <td>0.265082</td>\n",
              "      <td>-0.512922</td>\n",
              "    </tr>\n",
              "    <tr>\n",
              "      <th>4</th>\n",
              "      <td>-0.481558</td>\n",
              "      <td>-1.468418</td>\n",
              "      <td>0.032031</td>\n",
              "      <td>-0.663867</td>\n",
              "      <td>-0.043753</td>\n",
              "      <td>-0.417635</td>\n",
              "      <td>0.898962</td>\n",
              "      <td>0.540209</td>\n",
              "      <td>-0.696631</td>\n",
              "      <td>0.052103</td>\n",
              "      <td>0.976352</td>\n",
              "      <td>-0.714429</td>\n",
              "      <td>-0.512922</td>\n",
              "    </tr>\n",
              "    <tr>\n",
              "      <th>...</th>\n",
              "      <td>...</td>\n",
              "      <td>...</td>\n",
              "      <td>...</td>\n",
              "      <td>...</td>\n",
              "      <td>...</td>\n",
              "      <td>...</td>\n",
              "      <td>...</td>\n",
              "      <td>...</td>\n",
              "      <td>...</td>\n",
              "      <td>...</td>\n",
              "      <td>...</td>\n",
              "      <td>...</td>\n",
              "      <td>...</td>\n",
              "    </tr>\n",
              "    <tr>\n",
              "      <th>298</th>\n",
              "      <td>0.952197</td>\n",
              "      <td>0.681005</td>\n",
              "      <td>1.973123</td>\n",
              "      <td>0.763956</td>\n",
              "      <td>-0.256334</td>\n",
              "      <td>2.394438</td>\n",
              "      <td>-1.005832</td>\n",
              "      <td>0.015443</td>\n",
              "      <td>-0.696631</td>\n",
              "      <td>1.087338</td>\n",
              "      <td>-2.274579</td>\n",
              "      <td>-0.714429</td>\n",
              "      <td>-2.148873</td>\n",
              "    </tr>\n",
              "    <tr>\n",
              "      <th>299</th>\n",
              "      <td>0.290464</td>\n",
              "      <td>0.681005</td>\n",
              "      <td>-0.938515</td>\n",
              "      <td>-1.234996</td>\n",
              "      <td>1.714865</td>\n",
              "      <td>-0.417635</td>\n",
              "      <td>0.898962</td>\n",
              "      <td>-0.290671</td>\n",
              "      <td>1.435481</td>\n",
              "      <td>1.691225</td>\n",
              "      <td>-0.649113</td>\n",
              "      <td>0.265082</td>\n",
              "      <td>1.123029</td>\n",
              "    </tr>\n",
              "    <tr>\n",
              "      <th>300</th>\n",
              "      <td>-1.805024</td>\n",
              "      <td>0.681005</td>\n",
              "      <td>1.973123</td>\n",
              "      <td>-0.663867</td>\n",
              "      <td>-0.294985</td>\n",
              "      <td>-0.417635</td>\n",
              "      <td>0.898962</td>\n",
              "      <td>1.414819</td>\n",
              "      <td>1.435481</td>\n",
              "      <td>2.381381</td>\n",
              "      <td>-0.649113</td>\n",
              "      <td>-0.714429</td>\n",
              "      <td>1.123029</td>\n",
              "    </tr>\n",
              "    <tr>\n",
              "      <th>301</th>\n",
              "      <td>0.290464</td>\n",
              "      <td>0.681005</td>\n",
              "      <td>-0.938515</td>\n",
              "      <td>1.049520</td>\n",
              "      <td>0.574662</td>\n",
              "      <td>-0.417635</td>\n",
              "      <td>-1.005832</td>\n",
              "      <td>-1.646316</td>\n",
              "      <td>1.435481</td>\n",
              "      <td>-0.379244</td>\n",
              "      <td>-0.649113</td>\n",
              "      <td>0.265082</td>\n",
              "      <td>-2.148873</td>\n",
              "    </tr>\n",
              "    <tr>\n",
              "      <th>302</th>\n",
              "      <td>1.062485</td>\n",
              "      <td>-1.468418</td>\n",
              "      <td>-0.938515</td>\n",
              "      <td>2.762907</td>\n",
              "      <td>1.521611</td>\n",
              "      <td>-0.417635</td>\n",
              "      <td>0.898962</td>\n",
              "      <td>0.190365</td>\n",
              "      <td>1.435481</td>\n",
              "      <td>-0.896862</td>\n",
              "      <td>0.976352</td>\n",
              "      <td>-0.714429</td>\n",
              "      <td>-0.512922</td>\n",
              "    </tr>\n",
              "  </tbody>\n",
              "</table>\n",
              "<p>303 rows × 13 columns</p>\n",
              "</div>"
            ],
            "text/plain": [
              "           0         1         2   ...        10        11        12\n",
              "0   -0.260980  0.681005  1.973123  ... -0.649113 -0.714429 -2.148873\n",
              "1    1.393352 -1.468418  1.002577  ...  0.976352  0.265082 -0.512922\n",
              "2    0.290464  0.681005  1.002577  ...  0.976352  0.265082  1.123029\n",
              "3    0.290464  0.681005  0.032031  ...  0.976352  0.265082 -0.512922\n",
              "4   -0.481558 -1.468418  0.032031  ...  0.976352 -0.714429 -0.512922\n",
              "..        ...       ...       ...  ...       ...       ...       ...\n",
              "298  0.952197  0.681005  1.973123  ... -2.274579 -0.714429 -2.148873\n",
              "299  0.290464  0.681005 -0.938515  ... -0.649113  0.265082  1.123029\n",
              "300 -1.805024  0.681005  1.973123  ... -0.649113 -0.714429  1.123029\n",
              "301  0.290464  0.681005 -0.938515  ... -0.649113  0.265082 -2.148873\n",
              "302  1.062485 -1.468418 -0.938515  ...  0.976352 -0.714429 -0.512922\n",
              "\n",
              "[303 rows x 13 columns]"
            ]
          },
          "metadata": {
            "tags": []
          },
          "execution_count": 41
        }
      ]
    },
    {
      "cell_type": "code",
      "metadata": {
        "id": "dFR6HQX-qtZF"
      },
      "source": [
        "x_train = alldata_scaled_x[:242]\r\n",
        "x_test = alldata_scaled_x[242:]"
      ],
      "execution_count": null,
      "outputs": []
    },
    {
      "cell_type": "code",
      "metadata": {
        "colab": {
          "base_uri": "https://localhost:8080/"
        },
        "id": "Cd0QOTcOqpe4",
        "outputId": "0e3fffd2-bd70-479e-b6c3-e93e6a08419d"
      },
      "source": [
        "x_train.shape, x_test.shape"
      ],
      "execution_count": null,
      "outputs": [
        {
          "output_type": "execute_result",
          "data": {
            "text/plain": [
              "((242, 13), (61, 13))"
            ]
          },
          "metadata": {
            "tags": []
          },
          "execution_count": 73
        }
      ]
    },
    {
      "cell_type": "code",
      "metadata": {
        "id": "qD-Gbqcsphj7"
      },
      "source": [
        "# 1 : train_test_split 으로 시도 \r\n",
        "# 차례로 실행해야함 .. 중복된 이름\r\n",
        "x_train, x_valid, y_train, y_valid = train_test_split(x_train, train['target'], test_size= 0.2, random_state = 10, stratify= train['target'])"
      ],
      "execution_count": null,
      "outputs": []
    },
    {
      "cell_type": "code",
      "metadata": {
        "colab": {
          "base_uri": "https://localhost:8080/",
          "height": 407
        },
        "id": "2mkKyopqrcnm",
        "outputId": "55fb0497-3c4c-4c0f-e61c-6fac3988f19a"
      },
      "source": [
        "x_train"
      ],
      "execution_count": null,
      "outputs": [
        {
          "output_type": "execute_result",
          "data": {
            "text/html": [
              "<div>\n",
              "<style scoped>\n",
              "    .dataframe tbody tr th:only-of-type {\n",
              "        vertical-align: middle;\n",
              "    }\n",
              "\n",
              "    .dataframe tbody tr th {\n",
              "        vertical-align: top;\n",
              "    }\n",
              "\n",
              "    .dataframe thead th {\n",
              "        text-align: right;\n",
              "    }\n",
              "</style>\n",
              "<table border=\"1\" class=\"dataframe\">\n",
              "  <thead>\n",
              "    <tr style=\"text-align: right;\">\n",
              "      <th></th>\n",
              "      <th>0</th>\n",
              "      <th>1</th>\n",
              "      <th>2</th>\n",
              "      <th>3</th>\n",
              "      <th>4</th>\n",
              "      <th>5</th>\n",
              "      <th>6</th>\n",
              "      <th>7</th>\n",
              "      <th>8</th>\n",
              "      <th>9</th>\n",
              "      <th>10</th>\n",
              "      <th>11</th>\n",
              "      <th>12</th>\n",
              "    </tr>\n",
              "  </thead>\n",
              "  <tbody>\n",
              "    <tr>\n",
              "      <th>57</th>\n",
              "      <td>1.062485</td>\n",
              "      <td>0.681005</td>\n",
              "      <td>-0.938515</td>\n",
              "      <td>-0.663867</td>\n",
              "      <td>-0.005102</td>\n",
              "      <td>-0.417635</td>\n",
              "      <td>-1.005832</td>\n",
              "      <td>-2.346004</td>\n",
              "      <td>1.435481</td>\n",
              "      <td>1.001069</td>\n",
              "      <td>-2.274579</td>\n",
              "      <td>0.265082</td>\n",
              "      <td>-0.512922</td>\n",
              "    </tr>\n",
              "    <tr>\n",
              "      <th>7</th>\n",
              "      <td>1.062485</td>\n",
              "      <td>-1.468418</td>\n",
              "      <td>-0.938515</td>\n",
              "      <td>-0.092738</td>\n",
              "      <td>1.096450</td>\n",
              "      <td>-0.417635</td>\n",
              "      <td>0.898962</td>\n",
              "      <td>-1.209011</td>\n",
              "      <td>-0.696631</td>\n",
              "      <td>0.828529</td>\n",
              "      <td>-0.649113</td>\n",
              "      <td>1.244593</td>\n",
              "      <td>-0.512922</td>\n",
              "    </tr>\n",
              "    <tr>\n",
              "      <th>30</th>\n",
              "      <td>-0.371269</td>\n",
              "      <td>0.681005</td>\n",
              "      <td>1.973123</td>\n",
              "      <td>-0.378302</td>\n",
              "      <td>-0.642843</td>\n",
              "      <td>-0.417635</td>\n",
              "      <td>-1.005832</td>\n",
              "      <td>-1.077820</td>\n",
              "      <td>1.435481</td>\n",
              "      <td>0.310912</td>\n",
              "      <td>0.976352</td>\n",
              "      <td>0.265082</td>\n",
              "      <td>-0.512922</td>\n",
              "    </tr>\n",
              "    <tr>\n",
              "      <th>104</th>\n",
              "      <td>0.069886</td>\n",
              "      <td>0.681005</td>\n",
              "      <td>0.032031</td>\n",
              "      <td>-0.092738</td>\n",
              "      <td>0.304105</td>\n",
              "      <td>-0.417635</td>\n",
              "      <td>0.898962</td>\n",
              "      <td>0.234095</td>\n",
              "      <td>-0.696631</td>\n",
              "      <td>-0.896862</td>\n",
              "      <td>0.976352</td>\n",
              "      <td>-0.714429</td>\n",
              "      <td>-0.512922</td>\n",
              "    </tr>\n",
              "    <tr>\n",
              "      <th>241</th>\n",
              "      <td>-0.040403</td>\n",
              "      <td>0.681005</td>\n",
              "      <td>1.002577</td>\n",
              "      <td>1.049520</td>\n",
              "      <td>-0.275659</td>\n",
              "      <td>-0.417635</td>\n",
              "      <td>-1.005832</td>\n",
              "      <td>0.671400</td>\n",
              "      <td>-0.696631</td>\n",
              "      <td>0.483451</td>\n",
              "      <td>0.976352</td>\n",
              "      <td>-0.714429</td>\n",
              "      <td>1.123029</td>\n",
              "    </tr>\n",
              "    <tr>\n",
              "      <th>...</th>\n",
              "      <td>...</td>\n",
              "      <td>...</td>\n",
              "      <td>...</td>\n",
              "      <td>...</td>\n",
              "      <td>...</td>\n",
              "      <td>...</td>\n",
              "      <td>...</td>\n",
              "      <td>...</td>\n",
              "      <td>...</td>\n",
              "      <td>...</td>\n",
              "      <td>...</td>\n",
              "      <td>...</td>\n",
              "      <td>...</td>\n",
              "    </tr>\n",
              "    <tr>\n",
              "      <th>201</th>\n",
              "      <td>0.400752</td>\n",
              "      <td>0.681005</td>\n",
              "      <td>1.002577</td>\n",
              "      <td>0.478391</td>\n",
              "      <td>-0.681494</td>\n",
              "      <td>2.394438</td>\n",
              "      <td>-1.005832</td>\n",
              "      <td>0.671400</td>\n",
              "      <td>-0.696631</td>\n",
              "      <td>-0.896862</td>\n",
              "      <td>0.976352</td>\n",
              "      <td>-0.714429</td>\n",
              "      <td>-0.512922</td>\n",
              "    </tr>\n",
              "    <tr>\n",
              "      <th>144</th>\n",
              "      <td>0.731619</td>\n",
              "      <td>0.681005</td>\n",
              "      <td>1.973123</td>\n",
              "      <td>0.135714</td>\n",
              "      <td>-0.237008</td>\n",
              "      <td>-0.417635</td>\n",
              "      <td>0.898962</td>\n",
              "      <td>-0.203210</td>\n",
              "      <td>-0.696631</td>\n",
              "      <td>1.346147</td>\n",
              "      <td>-0.649113</td>\n",
              "      <td>1.244593</td>\n",
              "      <td>-0.512922</td>\n",
              "    </tr>\n",
              "    <tr>\n",
              "      <th>17</th>\n",
              "      <td>0.952197</td>\n",
              "      <td>0.681005</td>\n",
              "      <td>-0.938515</td>\n",
              "      <td>-0.092738</td>\n",
              "      <td>0.149501</td>\n",
              "      <td>-0.417635</td>\n",
              "      <td>-1.005832</td>\n",
              "      <td>-0.115749</td>\n",
              "      <td>-0.696631</td>\n",
              "      <td>0.310912</td>\n",
              "      <td>-0.649113</td>\n",
              "      <td>0.265082</td>\n",
              "      <td>1.123029</td>\n",
              "    </tr>\n",
              "    <tr>\n",
              "      <th>234</th>\n",
              "      <td>2.165374</td>\n",
              "      <td>-1.468418</td>\n",
              "      <td>0.032031</td>\n",
              "      <td>-0.663867</td>\n",
              "      <td>0.439384</td>\n",
              "      <td>-0.417635</td>\n",
              "      <td>-1.005832</td>\n",
              "      <td>-1.252742</td>\n",
              "      <td>1.435481</td>\n",
              "      <td>-0.724323</td>\n",
              "      <td>0.976352</td>\n",
              "      <td>0.265082</td>\n",
              "      <td>-0.512922</td>\n",
              "    </tr>\n",
              "    <tr>\n",
              "      <th>111</th>\n",
              "      <td>0.952197</td>\n",
              "      <td>-1.468418</td>\n",
              "      <td>-0.938515</td>\n",
              "      <td>-1.349222</td>\n",
              "      <td>0.439384</td>\n",
              "      <td>-0.417635</td>\n",
              "      <td>0.898962</td>\n",
              "      <td>0.846322</td>\n",
              "      <td>1.435481</td>\n",
              "      <td>0.655990</td>\n",
              "      <td>-0.649113</td>\n",
              "      <td>1.244593</td>\n",
              "      <td>-0.512922</td>\n",
              "    </tr>\n",
              "  </tbody>\n",
              "</table>\n",
              "<p>193 rows × 13 columns</p>\n",
              "</div>"
            ],
            "text/plain": [
              "           0         1         2   ...        10        11        12\n",
              "57   1.062485  0.681005 -0.938515  ... -2.274579  0.265082 -0.512922\n",
              "7    1.062485 -1.468418 -0.938515  ... -0.649113  1.244593 -0.512922\n",
              "30  -0.371269  0.681005  1.973123  ...  0.976352  0.265082 -0.512922\n",
              "104  0.069886  0.681005  0.032031  ...  0.976352 -0.714429 -0.512922\n",
              "241 -0.040403  0.681005  1.002577  ...  0.976352 -0.714429  1.123029\n",
              "..        ...       ...       ...  ...       ...       ...       ...\n",
              "201  0.400752  0.681005  1.002577  ...  0.976352 -0.714429 -0.512922\n",
              "144  0.731619  0.681005  1.973123  ... -0.649113  1.244593 -0.512922\n",
              "17   0.952197  0.681005 -0.938515  ... -0.649113  0.265082  1.123029\n",
              "234  2.165374 -1.468418  0.032031  ...  0.976352  0.265082 -0.512922\n",
              "111  0.952197 -1.468418 -0.938515  ... -0.649113  1.244593 -0.512922\n",
              "\n",
              "[193 rows x 13 columns]"
            ]
          },
          "metadata": {
            "tags": []
          },
          "execution_count": 44
        }
      ]
    },
    {
      "cell_type": "code",
      "metadata": {
        "colab": {
          "base_uri": "https://localhost:8080/"
        },
        "id": "3KvauGyotOeo",
        "outputId": "97f81f30-c285-4627-ec4a-9796b1390c1f"
      },
      "source": [
        "# train의 target과 비슷한 비율로\r\n",
        "y_train.value_counts()\r\n",
        "print('\\t')\r\n",
        "print(107/(107+86))"
      ],
      "execution_count": null,
      "outputs": [
        {
          "output_type": "stream",
          "text": [
            "\t\n",
            "0.5544041450777202\n"
          ],
          "name": "stdout"
        }
      ]
    },
    {
      "cell_type": "code",
      "metadata": {
        "colab": {
          "base_uri": "https://localhost:8080/"
        },
        "id": "JyFJvymQrdFT",
        "outputId": "3338eb49-243d-4be8-c014-1376e8e4e058"
      },
      "source": [
        "# valid의 target과 비슷한 비율로\r\n",
        "print(y_valid.value_counts())\r\n",
        "print('\\t')\r\n",
        "print(27/(27+22))"
      ],
      "execution_count": null,
      "outputs": [
        {
          "output_type": "stream",
          "text": [
            "1    27\n",
            "0    22\n",
            "Name: target, dtype: int64\n",
            "\t\n",
            "0.5510204081632653\n"
          ],
          "name": "stdout"
        }
      ]
    },
    {
      "cell_type": "code",
      "metadata": {
        "colab": {
          "base_uri": "https://localhost:8080/"
        },
        "id": "8E1vuvf3so5V",
        "outputId": "01124379-7c2f-41f2-9e0e-10f516a22d6c"
      },
      "source": [
        "train['target'].value_counts()\r\n",
        "# print('\\t')\r\n",
        "print(134/(134+108))"
      ],
      "execution_count": null,
      "outputs": [
        {
          "output_type": "stream",
          "text": [
            "0.5537190082644629\n"
          ],
          "name": "stdout"
        }
      ]
    },
    {
      "cell_type": "code",
      "metadata": {
        "colab": {
          "base_uri": "https://localhost:8080/"
        },
        "id": "CvGmOWVmtCqw",
        "outputId": "f175f144-2b2a-475b-89cd-1bb8d4dc613d"
      },
      "source": [
        "# 로지스틱 모델 # 0.1이 best\r\n",
        "\r\n",
        "alphas = [0.00001,0.001,0.01,0.1,1]\r\n",
        "for alpha in alphas:\r\n",
        "    lr_clf = LogisticRegression(C = alpha, random_state=10).fit(x_train, y_train)\r\n",
        "    predict = lr_clf.predict(x_valid)\r\n",
        "    print(f'alpha : {alpha}일 때, missclassification rate = {misc_rate(y_valid,predict)}')\r\n",
        "    print(f'alpha : {alpha}일 때, accuracy score = {lr_clf.score(x_valid,y_valid)}') \r\n",
        "    # 이거 자체가 x_valid로부터 predict 뽑아서 y_valid랑 비교해서 정확도 구하는 듯\r\n",
        "    print('\\t')\r\n",
        "\r\n",
        "# 0.1428571428571429 + 0.8571428571428571 = 1"
      ],
      "execution_count": null,
      "outputs": [
        {
          "output_type": "stream",
          "text": [
            "alpha : 1e-05일 때, missclassification rate = 0.44897959183673475\n",
            "alpha : 1e-05일 때, accuracy score = 0.5510204081632653\n",
            "\t\n",
            "alpha : 0.001일 때, missclassification rate = 0.326530612244898\n",
            "alpha : 0.001일 때, accuracy score = 0.673469387755102\n",
            "\t\n",
            "alpha : 0.01일 때, missclassification rate = 0.16326530612244894\n",
            "alpha : 0.01일 때, accuracy score = 0.8367346938775511\n",
            "\t\n",
            "alpha : 0.1일 때, missclassification rate = 0.1428571428571429\n",
            "alpha : 0.1일 때, accuracy score = 0.8571428571428571\n",
            "\t\n",
            "alpha : 1일 때, missclassification rate = 0.1428571428571429\n",
            "alpha : 1일 때, accuracy score = 0.8571428571428571\n",
            "\t\n"
          ],
          "name": "stdout"
        }
      ]
    },
    {
      "cell_type": "code",
      "metadata": {
        "colab": {
          "base_uri": "https://localhost:8080/"
        },
        "id": "wze08AtB8HpQ",
        "outputId": "fd9b8ec1-3532-42ab-9bc9-696ead7ed6b1"
      },
      "source": [
        "# 실제 test data 상에서는 alpha가 0.01일때 best인 걸 확인할 수 있음\r\n",
        "# missclassification rate = 0.21311475409836067\r\n",
        "# 고로 train_test_split은 train의 일부만 놓고 학습해서 평가하기 때문에 정확도 측면에서 실제 test data상과 차이가 나는 것!\r\n",
        "# CV 필요\r\n",
        "\r\n",
        "x_train = alldata_scaled_x[:242]\r\n",
        "x_test = alldata_scaled_x[242:]\r\n",
        "\r\n",
        "alphas = [0.00001,0.001,0.01,0.05,0.1,1]\r\n",
        "for alpha in alphas:\r\n",
        "    lr = LogisticRegression(C = alpha, random_state=10).fit(x_train, train['target'])\r\n",
        "    target = test['target']\r\n",
        "    # predict = lr.predict(x_test)\r\n",
        "    # print(f'alpha : {alpha}일 때, missclassification rate = {misc_rate(target, predict)}') # 똑같음\r\n",
        "    print(f'alpha : {alpha}일 때, missclassification rate = {1-lr.score(x_test,target)}')"
      ],
      "execution_count": null,
      "outputs": [
        {
          "output_type": "stream",
          "text": [
            "alpha : 1e-05일 때, missclassification rate = 0.4918032786885246\n",
            "alpha : 0.001일 때, missclassification rate = 0.29508196721311475\n",
            "alpha : 0.01일 때, missclassification rate = 0.21311475409836067\n",
            "alpha : 0.05일 때, missclassification rate = 0.2295081967213115\n",
            "alpha : 0.1일 때, missclassification rate = 0.24590163934426235\n",
            "alpha : 1일 때, missclassification rate = 0.2622950819672131\n"
          ],
          "name": "stdout"
        }
      ]
    },
    {
      "cell_type": "markdown",
      "metadata": {
        "id": "KH9vFF2--59h"
      },
      "source": [
        "## Cross Validation"
      ]
    },
    {
      "cell_type": "code",
      "metadata": {
        "colab": {
          "base_uri": "https://localhost:8080/"
        },
        "id": "AeakrMXCAyUd",
        "outputId": "1c9a64fe-ddb2-4205-f85b-a8b4999283fa"
      },
      "source": [
        "# l2 norm : 제곱 (로지스틱에서 default)\r\n",
        "# l1 norm : 절댓값 \r\n",
        "\r\n",
        "x_train = alldata_scaled_x[:242]\r\n",
        "x_test = alldata_scaled_x[242:]\r\n",
        "\r\n",
        "params = {'penalty' : ['l2'],\r\n",
        "          'C' : [0.001,0.01,0.1,1]}\r\n",
        "lr = LogisticRegression()\r\n",
        "grid_clf = GridSearchCV(lr, param_grid= params, scoring='accuracy', cv=5)\r\n",
        "grid_clf.fit(x_train, train['target'])\r\n",
        "print(f' 최적 파라미터 : {grid_clf.best_params_}, 최적 평균 정확도 : {grid_clf.best_score_}, 오분류율 : {1 - grid_clf.best_score_}')\r\n",
        "# 5fold 평균 정확도"
      ],
      "execution_count": null,
      "outputs": [
        {
          "output_type": "stream",
          "text": [
            " 최적 파라미터 : {'C': 0.1, 'penalty': 'l2'}, 최적 평균 정확도 : 0.8392857142857142, 오분류율 : 0.1607142857142858\n"
          ],
          "name": "stdout"
        }
      ]
    },
    {
      "cell_type": "markdown",
      "metadata": {
        "id": "RdcOnfqTCZxY"
      },
      "source": [
        "## 결론 1 :\r\n",
        "- train_test_split 에서도 & CV 에서도 둘다 C가 0.1 best 였으나, 실제 test data상에서는 C가 0.01일 때, best였음\r\n",
        "- missclassification rate = 0.21311475409836067 (C = 0.01)"
      ]
    },
    {
      "cell_type": "code",
      "metadata": {
        "colab": {
          "base_uri": "https://localhost:8080/"
        },
        "id": "SuKIGkDfD1LS",
        "outputId": "b3624779-87b3-4b0f-8687-21fb1df993b8"
      },
      "source": [
        "lr = LogisticRegression(C=0.01).fit(x_train, train['target'])\r\n",
        "lr.coef_ # log odds에 대한 베타 계수 (w) 값\r\n",
        "# ln(odds) = ln(p(y=1)/ 1-p(y=1)) = w^t*x"
      ],
      "execution_count": null,
      "outputs": [
        {
          "output_type": "execute_result",
          "data": {
            "text/plain": [
              "array([[-0.0916168 , -0.20142041,  0.2789411 , -0.07359685, -0.04681971,\n",
              "         0.00888011,  0.08233397,  0.21630057, -0.23225894, -0.19928643,\n",
              "         0.13538277, -0.20600103, -0.13131835]])"
            ]
          },
          "metadata": {
            "tags": []
          },
          "execution_count": 138
        }
      ]
    },
    {
      "cell_type": "markdown",
      "metadata": {
        "id": "4Ed6n1P3hnFJ"
      },
      "source": [
        "## EDA 2"
      ]
    },
    {
      "cell_type": "code",
      "metadata": {
        "id": "FB51nmU0hrIh"
      },
      "source": [
        "train = pd.read_csv('/content/drive/My Drive/데이터/3주차/heart attack train.csv', index_col = 0)\r\n",
        "test = pd.read_csv('/content/drive/My Drive/데이터/3주차/heart attack test.csv', index_col = 0)\r\n",
        "alldata = pd.concat([train,test])"
      ],
      "execution_count": null,
      "outputs": []
    },
    {
      "cell_type": "markdown",
      "metadata": {
        "id": "pjKiITppG1NC"
      },
      "source": [
        "## Data Preprocessing (version 2)\r\n",
        "- 범주형 변수 처리"
      ]
    },
    {
      "cell_type": "code",
      "metadata": {
        "colab": {
          "base_uri": "https://localhost:8080/",
          "height": 407
        },
        "id": "L40HhmOoID_-",
        "outputId": "bfd1615e-4bd3-4acc-896f-8bd039599cf2"
      },
      "source": [
        "alldata"
      ],
      "execution_count": null,
      "outputs": [
        {
          "output_type": "execute_result",
          "data": {
            "text/html": [
              "<div>\n",
              "<style scoped>\n",
              "    .dataframe tbody tr th:only-of-type {\n",
              "        vertical-align: middle;\n",
              "    }\n",
              "\n",
              "    .dataframe tbody tr th {\n",
              "        vertical-align: top;\n",
              "    }\n",
              "\n",
              "    .dataframe thead th {\n",
              "        text-align: right;\n",
              "    }\n",
              "</style>\n",
              "<table border=\"1\" class=\"dataframe\">\n",
              "  <thead>\n",
              "    <tr style=\"text-align: right;\">\n",
              "      <th></th>\n",
              "      <th>age</th>\n",
              "      <th>sex</th>\n",
              "      <th>cp</th>\n",
              "      <th>trestbps</th>\n",
              "      <th>chol</th>\n",
              "      <th>fbs</th>\n",
              "      <th>restecg</th>\n",
              "      <th>thalach</th>\n",
              "      <th>exang</th>\n",
              "      <th>oldpeak</th>\n",
              "      <th>slope</th>\n",
              "      <th>ca</th>\n",
              "      <th>thal</th>\n",
              "      <th>target</th>\n",
              "    </tr>\n",
              "  </thead>\n",
              "  <tbody>\n",
              "    <tr>\n",
              "      <th>62</th>\n",
              "      <td>52</td>\n",
              "      <td>1</td>\n",
              "      <td>3</td>\n",
              "      <td>118</td>\n",
              "      <td>186</td>\n",
              "      <td>0</td>\n",
              "      <td>0</td>\n",
              "      <td>190</td>\n",
              "      <td>0</td>\n",
              "      <td>0.0</td>\n",
              "      <td>1</td>\n",
              "      <td>0</td>\n",
              "      <td>1</td>\n",
              "      <td>1</td>\n",
              "    </tr>\n",
              "    <tr>\n",
              "      <th>127</th>\n",
              "      <td>67</td>\n",
              "      <td>0</td>\n",
              "      <td>2</td>\n",
              "      <td>152</td>\n",
              "      <td>277</td>\n",
              "      <td>0</td>\n",
              "      <td>1</td>\n",
              "      <td>172</td>\n",
              "      <td>0</td>\n",
              "      <td>0.0</td>\n",
              "      <td>2</td>\n",
              "      <td>1</td>\n",
              "      <td>2</td>\n",
              "      <td>1</td>\n",
              "    </tr>\n",
              "    <tr>\n",
              "      <th>111</th>\n",
              "      <td>57</td>\n",
              "      <td>1</td>\n",
              "      <td>2</td>\n",
              "      <td>150</td>\n",
              "      <td>126</td>\n",
              "      <td>1</td>\n",
              "      <td>1</td>\n",
              "      <td>173</td>\n",
              "      <td>0</td>\n",
              "      <td>0.2</td>\n",
              "      <td>2</td>\n",
              "      <td>1</td>\n",
              "      <td>3</td>\n",
              "      <td>1</td>\n",
              "    </tr>\n",
              "    <tr>\n",
              "      <th>287</th>\n",
              "      <td>57</td>\n",
              "      <td>1</td>\n",
              "      <td>1</td>\n",
              "      <td>154</td>\n",
              "      <td>232</td>\n",
              "      <td>0</td>\n",
              "      <td>0</td>\n",
              "      <td>164</td>\n",
              "      <td>0</td>\n",
              "      <td>0.0</td>\n",
              "      <td>2</td>\n",
              "      <td>1</td>\n",
              "      <td>2</td>\n",
              "      <td>0</td>\n",
              "    </tr>\n",
              "    <tr>\n",
              "      <th>108</th>\n",
              "      <td>50</td>\n",
              "      <td>0</td>\n",
              "      <td>1</td>\n",
              "      <td>120</td>\n",
              "      <td>244</td>\n",
              "      <td>0</td>\n",
              "      <td>1</td>\n",
              "      <td>162</td>\n",
              "      <td>0</td>\n",
              "      <td>1.1</td>\n",
              "      <td>2</td>\n",
              "      <td>0</td>\n",
              "      <td>2</td>\n",
              "      <td>1</td>\n",
              "    </tr>\n",
              "    <tr>\n",
              "      <th>...</th>\n",
              "      <td>...</td>\n",
              "      <td>...</td>\n",
              "      <td>...</td>\n",
              "      <td>...</td>\n",
              "      <td>...</td>\n",
              "      <td>...</td>\n",
              "      <td>...</td>\n",
              "      <td>...</td>\n",
              "      <td>...</td>\n",
              "      <td>...</td>\n",
              "      <td>...</td>\n",
              "      <td>...</td>\n",
              "      <td>...</td>\n",
              "      <td>...</td>\n",
              "    </tr>\n",
              "    <tr>\n",
              "      <th>0</th>\n",
              "      <td>63</td>\n",
              "      <td>1</td>\n",
              "      <td>3</td>\n",
              "      <td>145</td>\n",
              "      <td>233</td>\n",
              "      <td>1</td>\n",
              "      <td>0</td>\n",
              "      <td>150</td>\n",
              "      <td>0</td>\n",
              "      <td>2.3</td>\n",
              "      <td>0</td>\n",
              "      <td>0</td>\n",
              "      <td>1</td>\n",
              "      <td>1</td>\n",
              "    </tr>\n",
              "    <tr>\n",
              "      <th>288</th>\n",
              "      <td>57</td>\n",
              "      <td>1</td>\n",
              "      <td>0</td>\n",
              "      <td>110</td>\n",
              "      <td>335</td>\n",
              "      <td>0</td>\n",
              "      <td>1</td>\n",
              "      <td>143</td>\n",
              "      <td>1</td>\n",
              "      <td>3.0</td>\n",
              "      <td>1</td>\n",
              "      <td>1</td>\n",
              "      <td>3</td>\n",
              "      <td>0</td>\n",
              "    </tr>\n",
              "    <tr>\n",
              "      <th>259</th>\n",
              "      <td>38</td>\n",
              "      <td>1</td>\n",
              "      <td>3</td>\n",
              "      <td>120</td>\n",
              "      <td>231</td>\n",
              "      <td>0</td>\n",
              "      <td>1</td>\n",
              "      <td>182</td>\n",
              "      <td>1</td>\n",
              "      <td>3.8</td>\n",
              "      <td>1</td>\n",
              "      <td>0</td>\n",
              "      <td>3</td>\n",
              "      <td>0</td>\n",
              "    </tr>\n",
              "    <tr>\n",
              "      <th>179</th>\n",
              "      <td>57</td>\n",
              "      <td>1</td>\n",
              "      <td>0</td>\n",
              "      <td>150</td>\n",
              "      <td>276</td>\n",
              "      <td>0</td>\n",
              "      <td>0</td>\n",
              "      <td>112</td>\n",
              "      <td>1</td>\n",
              "      <td>0.6</td>\n",
              "      <td>1</td>\n",
              "      <td>1</td>\n",
              "      <td>1</td>\n",
              "      <td>0</td>\n",
              "    </tr>\n",
              "    <tr>\n",
              "      <th>110</th>\n",
              "      <td>64</td>\n",
              "      <td>0</td>\n",
              "      <td>0</td>\n",
              "      <td>180</td>\n",
              "      <td>325</td>\n",
              "      <td>0</td>\n",
              "      <td>1</td>\n",
              "      <td>154</td>\n",
              "      <td>1</td>\n",
              "      <td>0.0</td>\n",
              "      <td>2</td>\n",
              "      <td>0</td>\n",
              "      <td>2</td>\n",
              "      <td>1</td>\n",
              "    </tr>\n",
              "  </tbody>\n",
              "</table>\n",
              "<p>303 rows × 14 columns</p>\n",
              "</div>"
            ],
            "text/plain": [
              "     age  sex  cp  trestbps  chol  fbs  ...  exang  oldpeak  slope  ca  thal  target\n",
              "62    52    1   3       118   186    0  ...      0      0.0      1   0     1       1\n",
              "127   67    0   2       152   277    0  ...      0      0.0      2   1     2       1\n",
              "111   57    1   2       150   126    1  ...      0      0.2      2   1     3       1\n",
              "287   57    1   1       154   232    0  ...      0      0.0      2   1     2       0\n",
              "108   50    0   1       120   244    0  ...      0      1.1      2   0     2       1\n",
              "..   ...  ...  ..       ...   ...  ...  ...    ...      ...    ...  ..   ...     ...\n",
              "0     63    1   3       145   233    1  ...      0      2.3      0   0     1       1\n",
              "288   57    1   0       110   335    0  ...      1      3.0      1   1     3       0\n",
              "259   38    1   3       120   231    0  ...      1      3.8      1   0     3       0\n",
              "179   57    1   0       150   276    0  ...      1      0.6      1   1     1       0\n",
              "110   64    0   0       180   325    0  ...      1      0.0      2   0     2       1\n",
              "\n",
              "[303 rows x 14 columns]"
            ]
          },
          "metadata": {
            "tags": []
          },
          "execution_count": 156
        }
      ]
    },
    {
      "cell_type": "markdown",
      "metadata": {
        "id": "e0z-kRVW-X7P"
      },
      "source": [
        "### info 함수"
      ]
    },
    {
      "cell_type": "code",
      "metadata": {
        "id": "Ncq2qOjfdOhT"
      },
      "source": [
        "def info(alldata):\r\n",
        "    colname = []\r\n",
        "    dtype = []\r\n",
        "    unique_value = []\r\n",
        "    unique_count = []\r\n",
        "    for col in alldata.columns[:-1]:\r\n",
        "        colname.append(col)\r\n",
        "        dtype.append(alldata[col].dtype)\r\n",
        "        unique_value.append(alldata[col].unique())\r\n",
        "        unique_count.append(alldata[col].nunique())\r\n",
        "    \r\n",
        "    info = pd.DataFrame({'colname': colname, 'dtype' : dtype, 'unique_value':unique_value, 'unique_count':unique_count})\r\n",
        "    # df = pd.DataFrame([colname, dtype, unique_value, unique_count], index = ['colname','dtype','unique_value','unique_count']).transpose()\r\n",
        "    # df # 리스트로 데프 만들기 # 가로로 들어가기때문에 transpose 해줘야\r\n",
        "    return info"
      ],
      "execution_count": null,
      "outputs": []
    },
    {
      "cell_type": "code",
      "metadata": {
        "colab": {
          "base_uri": "https://localhost:8080/",
          "height": 438
        },
        "id": "IMg1JdmogMAj",
        "outputId": "2996fb6a-d7fa-4c67-dae9-960b1a7f58d3"
      },
      "source": [
        "info(alldata)"
      ],
      "execution_count": null,
      "outputs": [
        {
          "output_type": "execute_result",
          "data": {
            "text/html": [
              "<div>\n",
              "<style scoped>\n",
              "    .dataframe tbody tr th:only-of-type {\n",
              "        vertical-align: middle;\n",
              "    }\n",
              "\n",
              "    .dataframe tbody tr th {\n",
              "        vertical-align: top;\n",
              "    }\n",
              "\n",
              "    .dataframe thead th {\n",
              "        text-align: right;\n",
              "    }\n",
              "</style>\n",
              "<table border=\"1\" class=\"dataframe\">\n",
              "  <thead>\n",
              "    <tr style=\"text-align: right;\">\n",
              "      <th></th>\n",
              "      <th>colname</th>\n",
              "      <th>dtype</th>\n",
              "      <th>unique_value</th>\n",
              "      <th>unique_count</th>\n",
              "    </tr>\n",
              "  </thead>\n",
              "  <tbody>\n",
              "    <tr>\n",
              "      <th>0</th>\n",
              "      <td>age</td>\n",
              "      <td>int64</td>\n",
              "      <td>[52, 67, 57, 50, 62, 64, 55, 65, 49, 70, 45, 4...</td>\n",
              "      <td>41</td>\n",
              "    </tr>\n",
              "    <tr>\n",
              "      <th>1</th>\n",
              "      <td>sex</td>\n",
              "      <td>object</td>\n",
              "      <td>[1, 0]</td>\n",
              "      <td>2</td>\n",
              "    </tr>\n",
              "    <tr>\n",
              "      <th>2</th>\n",
              "      <td>cp</td>\n",
              "      <td>object</td>\n",
              "      <td>[3, 2, 1, 0]</td>\n",
              "      <td>4</td>\n",
              "    </tr>\n",
              "    <tr>\n",
              "      <th>3</th>\n",
              "      <td>trestbps</td>\n",
              "      <td>int64</td>\n",
              "      <td>[118, 152, 150, 154, 120, 115, 140, 130, 132, ...</td>\n",
              "      <td>49</td>\n",
              "    </tr>\n",
              "    <tr>\n",
              "      <th>4</th>\n",
              "      <td>chol</td>\n",
              "      <td>int64</td>\n",
              "      <td>[186, 277, 126, 232, 244, 564, 268, 303, 353, ...</td>\n",
              "      <td>152</td>\n",
              "    </tr>\n",
              "    <tr>\n",
              "      <th>5</th>\n",
              "      <td>fbs</td>\n",
              "      <td>object</td>\n",
              "      <td>[0, 1]</td>\n",
              "      <td>2</td>\n",
              "    </tr>\n",
              "    <tr>\n",
              "      <th>6</th>\n",
              "      <td>restecg</td>\n",
              "      <td>object</td>\n",
              "      <td>[0, 1, 2]</td>\n",
              "      <td>3</td>\n",
              "    </tr>\n",
              "    <tr>\n",
              "      <th>7</th>\n",
              "      <td>thalach</td>\n",
              "      <td>int64</td>\n",
              "      <td>[190, 172, 173, 164, 162, 160, 122, 132, 151, ...</td>\n",
              "      <td>91</td>\n",
              "    </tr>\n",
              "    <tr>\n",
              "      <th>8</th>\n",
              "      <td>exang</td>\n",
              "      <td>object</td>\n",
              "      <td>[0, 1]</td>\n",
              "      <td>2</td>\n",
              "    </tr>\n",
              "    <tr>\n",
              "      <th>9</th>\n",
              "      <td>oldpeak</td>\n",
              "      <td>float64</td>\n",
              "      <td>[0.0, 0.2, 1.1, 1.6, 3.6, 2.0, 1.2, 0.8, 2.4, ...</td>\n",
              "      <td>40</td>\n",
              "    </tr>\n",
              "    <tr>\n",
              "      <th>10</th>\n",
              "      <td>slope</td>\n",
              "      <td>object</td>\n",
              "      <td>[1, 2, 0]</td>\n",
              "      <td>3</td>\n",
              "    </tr>\n",
              "    <tr>\n",
              "      <th>11</th>\n",
              "      <td>ca</td>\n",
              "      <td>object</td>\n",
              "      <td>[0, 1, 2, 3, 4]</td>\n",
              "      <td>5</td>\n",
              "    </tr>\n",
              "    <tr>\n",
              "      <th>12</th>\n",
              "      <td>thal</td>\n",
              "      <td>object</td>\n",
              "      <td>[1, 2, 3, 0]</td>\n",
              "      <td>4</td>\n",
              "    </tr>\n",
              "  </tbody>\n",
              "</table>\n",
              "</div>"
            ],
            "text/plain": [
              "     colname  ... unique_count\n",
              "0        age  ...           41\n",
              "1        sex  ...            2\n",
              "2         cp  ...            4\n",
              "3   trestbps  ...           49\n",
              "4       chol  ...          152\n",
              "5        fbs  ...            2\n",
              "6    restecg  ...            3\n",
              "7    thalach  ...           91\n",
              "8      exang  ...            2\n",
              "9    oldpeak  ...           40\n",
              "10     slope  ...            3\n",
              "11        ca  ...            5\n",
              "12      thal  ...            4\n",
              "\n",
              "[13 rows x 4 columns]"
            ]
          },
          "metadata": {
            "tags": []
          },
          "execution_count": 120
        }
      ]
    },
    {
      "cell_type": "markdown",
      "metadata": {
        "id": "Bg7uEXNN-cXG"
      },
      "source": [
        "### 숫자 -> 문자 -> dummy 화 함수"
      ]
    },
    {
      "cell_type": "code",
      "metadata": {
        "id": "QDZdsSC-sg3r"
      },
      "source": [
        "def num_to_str(alldata):\r\n",
        "    colname = [col for col in alldata.columns[:-1]]\r\n",
        "    nunique = [len(alldata[col].unique()) for col in alldata.columns[:-1]]\r\n",
        "    zipp = dict(zip(colname, nunique))   \r\n",
        "    \r\n",
        "    # str & dummy 화 \r\n",
        "    for col in alldata.columns[:-1]:\r\n",
        "        if zipp[col] < 6:\r\n",
        "            alldata[col] = alldata[col].apply(lambda x: str(x))\r\n",
        "    alldata = pd.get_dummies(alldata)\r\n",
        "\r\n",
        "    return alldata"
      ],
      "execution_count": null,
      "outputs": []
    },
    {
      "cell_type": "code",
      "metadata": {
        "id": "EmkrLCOPvN10"
      },
      "source": [
        "alldata_ = num_to_str(alldata)"
      ],
      "execution_count": null,
      "outputs": []
    },
    {
      "cell_type": "code",
      "metadata": {
        "colab": {
          "base_uri": "https://localhost:8080/"
        },
        "id": "exFrraQOwd-B",
        "outputId": "7f0ef35a-48da-467e-a345-77a781c1b0c0"
      },
      "source": [
        "len(train)"
      ],
      "execution_count": null,
      "outputs": [
        {
          "output_type": "execute_result",
          "data": {
            "text/plain": [
              "242"
            ]
          },
          "metadata": {
            "tags": []
          },
          "execution_count": 159
        }
      ]
    },
    {
      "cell_type": "code",
      "metadata": {
        "id": "jaBmll3pqIse"
      },
      "source": [
        "train2 = alldata_.iloc[train.index]\r\n",
        "test2 = alldata_.iloc[test.index]"
      ],
      "execution_count": null,
      "outputs": []
    },
    {
      "cell_type": "code",
      "metadata": {
        "id": "PVBablQfws2j"
      },
      "source": [
        "train2_x = train2.drop(['target'],1)\r\n",
        "train2_y = train2['target']"
      ],
      "execution_count": null,
      "outputs": []
    },
    {
      "cell_type": "code",
      "metadata": {
        "id": "wvSztiblzXBX"
      },
      "source": [
        "test2_x = test2.drop(['target'],1)\r\n",
        "test2_y = test2.target"
      ],
      "execution_count": null,
      "outputs": []
    },
    {
      "cell_type": "markdown",
      "metadata": {
        "id": "FqvBaFrrvygu"
      },
      "source": [
        "## Cross Validation 2 \r\n"
      ]
    },
    {
      "cell_type": "code",
      "metadata": {
        "colab": {
          "base_uri": "https://localhost:8080/"
        },
        "id": "PxkI7FZUwTiC",
        "outputId": "f6886686-0bdf-434e-fd63-30db26474478"
      },
      "source": [
        "# max_iter 튜닝 더 알아봐야할듯..\r\n",
        "params = {'C' : [0.01,0.1,1,10]}\r\n",
        "lr = LogisticRegression(max_iter=10000)\r\n",
        "grid_clf = GridSearchCV(lr, param_grid= params, scoring='accuracy', cv=5)\r\n",
        "grid_clf.fit(train2_x, train2_y)\r\n",
        "print(f' 최적 파라미터 : {grid_clf.best_params_}, 최적 평균 정확도 : {grid_clf.best_score_}, 오분류율 : {1 - grid_clf.best_score_}')\r\n"
      ],
      "execution_count": null,
      "outputs": [
        {
          "output_type": "stream",
          "text": [
            " 최적 파라미터 : {'C': 0.1}, 최적 평균 정확도 : 0.8511054421768709, 오분류율 : 0.1488945578231291\n"
          ],
          "name": "stdout"
        }
      ]
    },
    {
      "cell_type": "code",
      "metadata": {
        "colab": {
          "base_uri": "https://localhost:8080/"
        },
        "id": "i9LBiXH1xLc0",
        "outputId": "c983fb2b-3e7d-49b3-9ec1-2b8ff569a7bb"
      },
      "source": [
        "alphas = [0.00001,0.001,0.01,0.05,0.1,1]\r\n",
        "for alpha in alphas:\r\n",
        "    lr = LogisticRegression(C = alpha, random_state=10)\r\n",
        "    lr = lr.fit(train2_x, train2_y)\r\n",
        "    print(f'alpha : {alpha}일 때, missclassification rate = {1 - lr.score(test2_x,test2_y)}')"
      ],
      "execution_count": null,
      "outputs": [
        {
          "output_type": "stream",
          "text": [
            "alpha : 1e-05일 때, missclassification rate = 0.3114754098360656\n",
            "alpha : 0.001일 때, missclassification rate = 0.21311475409836067\n",
            "alpha : 0.01일 때, missclassification rate = 0.180327868852459\n",
            "alpha : 0.05일 때, missclassification rate = 0.14754098360655743\n",
            "alpha : 0.1일 때, missclassification rate = 0.14754098360655743\n",
            "alpha : 1일 때, missclassification rate = 0.11475409836065575\n",
            "alpha : 2일 때, missclassification rate = 0.21311475409836067\n"
          ],
          "name": "stdout"
        }
      ]
    },
    {
      "cell_type": "code",
      "metadata": {
        "colab": {
          "base_uri": "https://localhost:8080/"
        },
        "id": "si4FFaoCzi9V",
        "outputId": "d86cb9a3-4941-4bad-9a1e-b2222349e181"
      },
      "source": [
        "clf = LogisticRegression(C=1)\r\n",
        "clf.fit(train2_x, train2_y)\r\n",
        "y_pred = clf.predict(test2_x)\r\n",
        "print(\"Accuracy:\",metrics.accuracy_score(test2_y, y_pred))"
      ],
      "execution_count": null,
      "outputs": [
        {
          "output_type": "stream",
          "text": [
            "Accuracy: 0.8852459016393442\n"
          ],
          "name": "stdout"
        }
      ]
    },
    {
      "cell_type": "code",
      "metadata": {
        "colab": {
          "base_uri": "https://localhost:8080/"
        },
        "id": "OwtPZ1Ha0t5a",
        "outputId": "e062903c-6591-4f10-ef88-7f3080861d3f"
      },
      "source": [
        "metrics.confusion_matrix(test2_y, y_pred)"
      ],
      "execution_count": null,
      "outputs": [
        {
          "output_type": "execute_result",
          "data": {
            "text/plain": [
              "array([[25,  5],\n",
              "       [ 2, 29]])"
            ]
          },
          "metadata": {
            "tags": []
          },
          "execution_count": 60
        }
      ]
    },
    {
      "cell_type": "markdown",
      "metadata": {
        "id": "YS_U_F_528AM"
      },
      "source": [
        "## 관계\r\n",
        "\r\n",
        "\r\n",
        "\r\n"
      ]
    },
    {
      "cell_type": "code",
      "metadata": {
        "id": "fJR37plr1elr"
      },
      "source": [
        "coefficient = dict(zip(train2_x.columns.values, clf.coef_[0]))\r\n",
        "coefficient = sorted(coefficient.items(), key=lambda x: abs(x[1]), reverse=True)"
      ],
      "execution_count": null,
      "outputs": []
    },
    {
      "cell_type": "code",
      "metadata": {
        "colab": {
          "base_uri": "https://localhost:8080/"
        },
        "id": "LNfIjcGq3SsN",
        "outputId": "7e8d26df-510e-41de-f833-e9051ff9b357"
      },
      "source": [
        "coefficient"
      ],
      "execution_count": null,
      "outputs": [
        {
          "output_type": "execute_result",
          "data": {
            "text/plain": [
              "[('cp_0', -1.370412018487456),\n",
              " ('ca_0', 1.2746209860620403),\n",
              " ('cp_2', 0.7869413376171129),\n",
              " ('thal_3', -0.7411645996673317),\n",
              " ('ca_2', -0.6814482846797426),\n",
              " ('thal_2', 0.6539877052747708),\n",
              " ('ca_1', -0.6188284124979728),\n",
              " ('slope_1', -0.5569994789458136),\n",
              " ('oldpeak', -0.5359286444141247),\n",
              " ('sex_1', -0.5037257188624182),\n",
              " ('sex_0', 0.4888559636219327),\n",
              " ('exang_1', -0.44972558308466704),\n",
              " ('exang_0', 0.43485582783853827),\n",
              " ('slope_2', 0.36798644915769607),\n",
              " ('cp_3', 0.3495161884509667),\n",
              " ('cp_1', 0.21908473717215235),\n",
              " ('slope_0', 0.17414327454424727),\n",
              " ('restecg_0', -0.15350545869571747),\n",
              " ('restecg_1', 0.12898889567871716),\n",
              " ('thal_1', 0.09746792339932901),\n",
              " ('ca_4', 0.09068058386997524),\n",
              " ('ca_3', -0.07989462800022937),\n",
              " ('age', 0.03346814429638689),\n",
              " ('thal_0', -0.02516078425357653),\n",
              " ('trestbps', -0.014570056561486683),\n",
              " ('thalach', 0.012491530526940206),\n",
              " ('restecg_2', 0.009646807773662367),\n",
              " ('fbs_0', -0.008945389094184615),\n",
              " ('fbs_1', -0.005924366149230953),\n",
              " ('chol', -0.004574394763925229)]"
            ]
          },
          "metadata": {
            "tags": []
          },
          "execution_count": 78
        }
      ]
    },
    {
      "cell_type": "markdown",
      "metadata": {
        "id": "Z--GC2yE8hlP"
      },
      "source": [
        "## 결론 2 :\r\n",
        "- 카테고리의 성격을 띠는 숫자형 변수를 문자형변수로 바꾸고, dummy화 하고나니 모델 성능이 더 좋아짐\r\n",
        "- C : 1일 때, missclassification rate = 0.11475409836065575"
      ]
    }
  ]
}