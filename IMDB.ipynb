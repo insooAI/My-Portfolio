{
  "nbformat": 4,
  "nbformat_minor": 0,
  "metadata": {
    "kernelspec": {
      "language": "python",
      "display_name": "Python 3",
      "name": "python3"
    },
    "language_info": {
      "pygments_lexer": "ipython3",
      "nbconvert_exporter": "python",
      "version": "3.6.4",
      "file_extension": ".py",
      "codemirror_mode": {
        "name": "ipython",
        "version": 3
      },
      "name": "python",
      "mimetype": "text/x-python"
    },
    "colab": {
      "name": "IMDB",
      "provenance": [],
      "collapsed_sections": [],
      "toc_visible": true,
      "include_colab_link": true
    }
  },
  "cells": [
    {
      "cell_type": "markdown",
      "metadata": {
        "id": "view-in-github",
        "colab_type": "text"
      },
      "source": [
        "<a href=\"https://colab.research.google.com/github/insooAI/My-Portfolio/blob/main/IMDB.ipynb\" target=\"_parent\"><img src=\"https://colab.research.google.com/assets/colab-badge.svg\" alt=\"Open In Colab\"/></a>"
      ]
    },
    {
      "cell_type": "markdown",
      "metadata": {
        "id": "SbjC2IFLTp41"
      },
      "source": [
        "# IMDB 영화평 감성분석"
      ]
    },
    {
      "cell_type": "code",
      "metadata": {
        "_uuid": "d629ff2d2480ee46fbb7e2d37f6b5fab8052498a",
        "_cell_guid": "79c7e3d0-c299-4dcb-8224-4455121ee9b0",
        "trusted": true,
        "id": "CtLCjqiSTR6d"
      },
      "source": [
        "train = pd.read_csv('/kaggle/input/word2vec-nlp-tutorial/labeledTrainData.tsv.zip',delimiter='\\t')\n",
        "test = pd.read_csv('/kaggle/input/word2vec-nlp-tutorial/testData.tsv.zip',delimiter='\\t')"
      ],
      "execution_count": null,
      "outputs": []
    },
    {
      "cell_type": "code",
      "metadata": {
        "trusted": true,
        "id": "vGoi8tRCTR6e"
      },
      "source": [
        "display(train,test)"
      ],
      "execution_count": null,
      "outputs": []
    },
    {
      "cell_type": "markdown",
      "metadata": {
        "id": "hbgTnDbuTlZA"
      },
      "source": [
        "## Data Preprocessing"
      ]
    },
    {
      "cell_type": "code",
      "metadata": {
        "trusted": true,
        "id": "kfNLRhGSTR6e"
      },
      "source": [
        "import re\n",
        "def cleanhtml(raw):\n",
        "    cleanr = re.compile('<br />')\n",
        "    cleantext = re.sub(cleanr, '', raw)\n",
        "    return cleantext\n",
        "\n",
        "def etcRemove(x):\n",
        "    return re.sub('[^0-9a-zA-Z${3}#{3}| |,|.|!|?]', \"\",x)\n",
        "\n",
        "def tolower(x) :         # 소문자로 통일하는 함수                                                                                                                                                                                                                                                                                                                                                                           \n",
        "    try :                                                                                                                                                                                                                                                                                                                                                                                     \n",
        "        return x.lower()                                                                                                                                                                                                                                                                                                                                                                      \n",
        "    except :                                                                                                                                                                                                                                                                                                                                                                                  \n",
        "        return \"\"\n",
        "\n",
        "def prep(x):\n",
        "    return tolower(etcRemove(cleanhtml(x)))"
      ],
      "execution_count": null,
      "outputs": []
    },
    {
      "cell_type": "code",
      "metadata": {
        "trusted": true,
        "id": "zMhYUaqwTR6f"
      },
      "source": [
        "alldata = pd.concat([train,test])\n",
        "alldata"
      ],
      "execution_count": null,
      "outputs": []
    },
    {
      "cell_type": "code",
      "metadata": {
        "trusted": true,
        "id": "B3agkRXwTR6f"
      },
      "source": [
        "# 데이터 전처리\n",
        "alldata['review'] = list(prep(x) for x in alldata['review'])"
      ],
      "execution_count": null,
      "outputs": []
    },
    {
      "cell_type": "code",
      "metadata": {
        "trusted": true,
        "id": "KdXp67loTR6f"
      },
      "source": [
        "alldata2 = alldata.drop(['id','sentiment'],1)\n",
        "target = train['sentiment']\n",
        "alldata2"
      ],
      "execution_count": null,
      "outputs": []
    },
    {
      "cell_type": "code",
      "metadata": {
        "trusted": true,
        "id": "Fec0supuTR6f"
      },
      "source": [
        "# 확인 차\n",
        "train2 = alldata2[:len(train)]\n",
        "test2 = alldata2[len(train):]"
      ],
      "execution_count": null,
      "outputs": []
    },
    {
      "cell_type": "markdown",
      "metadata": {
        "id": "xANctwpaTR6g"
      },
      "source": [
        "## 모델 선택\n"
      ]
    },
    {
      "cell_type": "code",
      "metadata": {
        "trusted": true,
        "id": "KDOKZ1izTR6g"
      },
      "source": [
        "from sklearn.pipeline import Pipeline\n",
        "from sklearn.feature_extraction.text import TfidfVectorizer\n",
        "from sklearn.linear_model import LogisticRegression\n",
        "from sklearn.metrics import accuracy_score\n",
        "tfidf_vect = TfidfVectorizer()\n",
        "lr_clf = LogisticRegression()\n",
        "\n",
        "# tf-idf & 로지스틱\n",
        "pipeline = Pipeline([\n",
        "    ('tfidf_vect', TfidfVectorizer(stop_words='english', ngram_range=(1,2), max_df=1000)),\n",
        "    ('lr_clf', LogisticRegression(C=10, random_state=12))\n",
        "])\n",
        "pipeline.fit(train2['review'], target)\n",
        "result = pipeline.predict_proba(test2['review'])\n",
        "print(result)\n",
        "# print('pipeline을 통한 Logistic Regressiond의 예측 정확도는 {0:.3f}'.format(accuracy_score(target, pred)))"
      ],
      "execution_count": null,
      "outputs": []
    },
    {
      "cell_type": "code",
      "metadata": {
        "trusted": true,
        "id": "QNGYZ02OTR6g"
      },
      "source": [
        "sub = pd.DataFrame(data=result[:,1],columns=['sentiment'])\n",
        "sub[\"id\"] = test[\"id\"]\n",
        "sub.set_index(\"id\",inplace=True)\n",
        "\n",
        "sub.to_csv('sub.csv')\n"
      ],
      "execution_count": null,
      "outputs": []
    },
    {
      "cell_type": "code",
      "metadata": {
        "trusted": true,
        "id": "f6ueo3M0TR6g"
      },
      "source": [
        "sub"
      ],
      "execution_count": null,
      "outputs": []
    }
  ]
}