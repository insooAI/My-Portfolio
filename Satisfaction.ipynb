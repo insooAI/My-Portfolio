{
  "nbformat": 4,
  "nbformat_minor": 0,
  "metadata": {
    "colab": {
      "name": "Satisfaction",
      "provenance": [],
      "collapsed_sections": [],
      "toc_visible": true,
      "authorship_tag": "ABX9TyPcSol2XzsO8pVudtVMeLdd",
      "include_colab_link": true
    },
    "kernelspec": {
      "name": "python3",
      "display_name": "Python 3"
    }
  },
  "cells": [
    {
      "cell_type": "markdown",
      "metadata": {
        "id": "view-in-github",
        "colab_type": "text"
      },
      "source": [
        "<a href=\"https://colab.research.google.com/github/insooAI/My-Portfolio/blob/main/Satisfaction.ipynb\" target=\"_parent\"><img src=\"https://colab.research.google.com/assets/colab-badge.svg\" alt=\"Open In Colab\"/></a>"
      ]
    },
    {
      "cell_type": "code",
      "metadata": {
        "colab": {
          "base_uri": "https://localhost:8080/"
        },
        "id": "FO8nDDfLjbJ3",
        "outputId": "0f9964c8-4b50-4117-aa82-749bcb45b7c4"
      },
      "source": [
        "from google.colab import drive\r\n",
        "drive.mount('/content/drive')"
      ],
      "execution_count": null,
      "outputs": [
        {
          "output_type": "stream",
          "text": [
            "Drive already mounted at /content/drive; to attempt to forcibly remount, call drive.mount(\"/content/drive\", force_remount=True).\n"
          ],
          "name": "stdout"
        }
      ]
    },
    {
      "cell_type": "code",
      "metadata": {
        "id": "942uSaFcjuIK"
      },
      "source": [
        "import pandas as pd\r\n",
        "import numpy as np\r\n",
        "import matplotlib.pyplot as plt\r\n",
        "import seaborn as sns\r\n",
        "from sklearn.metrics import accuracy_score\r\n",
        "from sklearn.preprocessing import StandardScaler\r\n",
        "from sklearn.model_selection import train_test_split\r\n",
        "from sklearn.model_selection import GridSearchCV\r\n",
        "from sklearn.linear_model import LogisticRegression\r\n",
        "from sklearn import metrics\r\n",
        "import warnings\r\n",
        "warnings.filterwarnings('ignore')"
      ],
      "execution_count": null,
      "outputs": []
    },
    {
      "cell_type": "markdown",
      "metadata": {
        "id": "Sz79pJ-j81nT"
      },
      "source": [
        "# Satisfaction"
      ]
    },
    {
      "cell_type": "code",
      "metadata": {
        "id": "qtD2ltRN9Yc0"
      },
      "source": [
        "train = pd.read_csv('/content/drive/My Drive/데이터/3주차/satisfaction_train.csv', index_col=0)\r\n",
        "test = pd.read_csv('/content/drive/My Drive/데이터/3주차/satisfaction_test.csv', index_col=0)"
      ],
      "execution_count": null,
      "outputs": []
    },
    {
      "cell_type": "markdown",
      "metadata": {
        "id": "8GVnkqDd-rQW"
      },
      "source": [
        "## EDA"
      ]
    },
    {
      "cell_type": "code",
      "metadata": {
        "colab": {
          "base_uri": "https://localhost:8080/",
          "height": 356
        },
        "id": "aDVLy8od9rY9",
        "outputId": "ef65aeb4-b29a-4969-fce7-dfd5ef961e56"
      },
      "source": [
        "train.head()"
      ],
      "execution_count": null,
      "outputs": [
        {
          "output_type": "execute_result",
          "data": {
            "text/html": [
              "<div>\n",
              "<style scoped>\n",
              "    .dataframe tbody tr th:only-of-type {\n",
              "        vertical-align: middle;\n",
              "    }\n",
              "\n",
              "    .dataframe tbody tr th {\n",
              "        vertical-align: top;\n",
              "    }\n",
              "\n",
              "    .dataframe thead th {\n",
              "        text-align: right;\n",
              "    }\n",
              "</style>\n",
              "<table border=\"1\" class=\"dataframe\">\n",
              "  <thead>\n",
              "    <tr style=\"text-align: right;\">\n",
              "      <th></th>\n",
              "      <th>Gender</th>\n",
              "      <th>Customer Type</th>\n",
              "      <th>Age</th>\n",
              "      <th>Type of Travel</th>\n",
              "      <th>Class</th>\n",
              "      <th>Flight Distance</th>\n",
              "      <th>Seat comfort</th>\n",
              "      <th>Departure/Arrival time convenient</th>\n",
              "      <th>Food and drink</th>\n",
              "      <th>Gate location</th>\n",
              "      <th>Inflight wifi service</th>\n",
              "      <th>Inflight entertainment</th>\n",
              "      <th>Online support</th>\n",
              "      <th>Ease of Online booking</th>\n",
              "      <th>On-board service</th>\n",
              "      <th>Leg room service</th>\n",
              "      <th>Baggage handling</th>\n",
              "      <th>Checkin service</th>\n",
              "      <th>Cleanliness</th>\n",
              "      <th>Online boarding</th>\n",
              "      <th>Departure Delay in Minutes</th>\n",
              "      <th>Arrival Delay in Minutes</th>\n",
              "      <th>satisfaction</th>\n",
              "    </tr>\n",
              "  </thead>\n",
              "  <tbody>\n",
              "    <tr>\n",
              "      <th>105527</th>\n",
              "      <td>Female</td>\n",
              "      <td>Loyal Customer</td>\n",
              "      <td>39</td>\n",
              "      <td>Business travel</td>\n",
              "      <td>Business</td>\n",
              "      <td>2725</td>\n",
              "      <td>5</td>\n",
              "      <td>5</td>\n",
              "      <td>2</td>\n",
              "      <td>5</td>\n",
              "      <td>4</td>\n",
              "      <td>4</td>\n",
              "      <td>5</td>\n",
              "      <td>4</td>\n",
              "      <td>4</td>\n",
              "      <td>4</td>\n",
              "      <td>4</td>\n",
              "      <td>4</td>\n",
              "      <td>4</td>\n",
              "      <td>4</td>\n",
              "      <td>73</td>\n",
              "      <td>65.0</td>\n",
              "      <td>satisfied</td>\n",
              "    </tr>\n",
              "    <tr>\n",
              "      <th>82617</th>\n",
              "      <td>Female</td>\n",
              "      <td>Loyal Customer</td>\n",
              "      <td>27</td>\n",
              "      <td>Business travel</td>\n",
              "      <td>Business</td>\n",
              "      <td>1634</td>\n",
              "      <td>3</td>\n",
              "      <td>3</td>\n",
              "      <td>3</td>\n",
              "      <td>3</td>\n",
              "      <td>3</td>\n",
              "      <td>3</td>\n",
              "      <td>3</td>\n",
              "      <td>3</td>\n",
              "      <td>3</td>\n",
              "      <td>4</td>\n",
              "      <td>4</td>\n",
              "      <td>2</td>\n",
              "      <td>3</td>\n",
              "      <td>3</td>\n",
              "      <td>39</td>\n",
              "      <td>37.0</td>\n",
              "      <td>dissatisfied</td>\n",
              "    </tr>\n",
              "    <tr>\n",
              "      <th>34069</th>\n",
              "      <td>Female</td>\n",
              "      <td>Loyal Customer</td>\n",
              "      <td>21</td>\n",
              "      <td>Personal Travel</td>\n",
              "      <td>Eco Plus</td>\n",
              "      <td>1341</td>\n",
              "      <td>4</td>\n",
              "      <td>4</td>\n",
              "      <td>0</td>\n",
              "      <td>1</td>\n",
              "      <td>1</td>\n",
              "      <td>0</td>\n",
              "      <td>1</td>\n",
              "      <td>1</td>\n",
              "      <td>4</td>\n",
              "      <td>1</td>\n",
              "      <td>3</td>\n",
              "      <td>5</td>\n",
              "      <td>4</td>\n",
              "      <td>1</td>\n",
              "      <td>0</td>\n",
              "      <td>0.0</td>\n",
              "      <td>satisfied</td>\n",
              "    </tr>\n",
              "    <tr>\n",
              "      <th>18636</th>\n",
              "      <td>Male</td>\n",
              "      <td>Loyal Customer</td>\n",
              "      <td>64</td>\n",
              "      <td>Personal Travel</td>\n",
              "      <td>Eco Plus</td>\n",
              "      <td>3794</td>\n",
              "      <td>2</td>\n",
              "      <td>5</td>\n",
              "      <td>2</td>\n",
              "      <td>4</td>\n",
              "      <td>2</td>\n",
              "      <td>1</td>\n",
              "      <td>1</td>\n",
              "      <td>5</td>\n",
              "      <td>3</td>\n",
              "      <td>3</td>\n",
              "      <td>5</td>\n",
              "      <td>1</td>\n",
              "      <td>4</td>\n",
              "      <td>1</td>\n",
              "      <td>570</td>\n",
              "      <td>567.0</td>\n",
              "      <td>dissatisfied</td>\n",
              "    </tr>\n",
              "    <tr>\n",
              "      <th>28693</th>\n",
              "      <td>Female</td>\n",
              "      <td>Loyal Customer</td>\n",
              "      <td>69</td>\n",
              "      <td>Personal Travel</td>\n",
              "      <td>Eco</td>\n",
              "      <td>1237</td>\n",
              "      <td>5</td>\n",
              "      <td>5</td>\n",
              "      <td>5</td>\n",
              "      <td>5</td>\n",
              "      <td>4</td>\n",
              "      <td>5</td>\n",
              "      <td>5</td>\n",
              "      <td>5</td>\n",
              "      <td>5</td>\n",
              "      <td>5</td>\n",
              "      <td>5</td>\n",
              "      <td>3</td>\n",
              "      <td>5</td>\n",
              "      <td>4</td>\n",
              "      <td>69</td>\n",
              "      <td>72.0</td>\n",
              "      <td>satisfied</td>\n",
              "    </tr>\n",
              "  </tbody>\n",
              "</table>\n",
              "</div>"
            ],
            "text/plain": [
              "        Gender   Customer Type  ...  Arrival Delay in Minutes  satisfaction\n",
              "105527  Female  Loyal Customer  ...                      65.0     satisfied\n",
              "82617   Female  Loyal Customer  ...                      37.0  dissatisfied\n",
              "34069   Female  Loyal Customer  ...                       0.0     satisfied\n",
              "18636     Male  Loyal Customer  ...                     567.0  dissatisfied\n",
              "28693   Female  Loyal Customer  ...                      72.0     satisfied\n",
              "\n",
              "[5 rows x 23 columns]"
            ]
          },
          "metadata": {
            "tags": []
          },
          "execution_count": 89
        }
      ]
    },
    {
      "cell_type": "markdown",
      "metadata": {
        "id": "kYDRH2QW_vH1"
      },
      "source": [
        "## Data Preprocessing"
      ]
    },
    {
      "cell_type": "code",
      "metadata": {
        "id": "TD4MBJbYD_BD"
      },
      "source": [
        "# 오분류율 함수\r\n",
        "def misc_rate(test,pred):\r\n",
        "    return 1 - accuracy_score(test,pred)"
      ],
      "execution_count": null,
      "outputs": []
    },
    {
      "cell_type": "code",
      "metadata": {
        "id": "sIuYUL_p_znP"
      },
      "source": [
        "alldata = pd.concat([train,test])"
      ],
      "execution_count": null,
      "outputs": []
    },
    {
      "cell_type": "code",
      "metadata": {
        "id": "1cWmA-Up-qCB"
      },
      "source": [
        "def num_to_str(data):\r\n",
        "    colname = [col for col in data.columns[:-1]]\r\n",
        "    nunique = [len(data[col].unique()) for col in data.columns[:-1]]\r\n",
        "    zipp = dict(zip(colname, nunique))   \r\n",
        "    \r\n",
        "    # dummy 화 \r\n",
        "    for col in data.columns[:-1]:\r\n",
        "        if zipp[col] <=6:\r\n",
        "            data[col] = data[col].apply(lambda x: str(x))\r\n",
        "    # data = pd.get_dummies(data)\r\n",
        "    \r\n",
        "    return data"
      ],
      "execution_count": null,
      "outputs": []
    },
    {
      "cell_type": "code",
      "metadata": {
        "id": "ruv3qN1gAHgr"
      },
      "source": [
        "# 'satisfaction' in alldata.columns[:-1]"
      ],
      "execution_count": null,
      "outputs": []
    },
    {
      "cell_type": "markdown",
      "metadata": {
        "id": "tLKx-51gCRfd"
      },
      "source": [
        "### 문자를 숫자로 맵핑"
      ]
    },
    {
      "cell_type": "code",
      "metadata": {
        "id": "QLopbUCVApq6"
      },
      "source": [
        "alldata.Gender = alldata['Gender'].apply(lambda x: 1 if x == 'Female' else 0)\r\n",
        "alldata['Customer Type'] = alldata['Customer Type'].apply(lambda x: 1 if x == 'Loyal Customer' else 0)\r\n",
        "alldata['Type of Travel'] = alldata['Type of Travel'].apply(lambda x: 1 if x == 'Business travel' else 0)\r\n",
        "alldata.Class = alldata['Class'].apply(lambda x: 1 if x == 'Business' else 2 if x == 'Eco Plus' else 3)\r\n",
        "alldata.satisfaction = alldata['satisfaction'].apply(lambda x: 1 if x == 'satisfied' else 0)"
      ],
      "execution_count": null,
      "outputs": []
    },
    {
      "cell_type": "markdown",
      "metadata": {
        "id": "ECD2_1VDEvvi"
      },
      "source": [
        "### str 함수 적용"
      ]
    },
    {
      "cell_type": "code",
      "metadata": {
        "id": "fXNncDPw_DxS"
      },
      "source": [
        "alldata_ = num_to_str(alldata)"
      ],
      "execution_count": null,
      "outputs": []
    },
    {
      "cell_type": "code",
      "metadata": {
        "colab": {
          "base_uri": "https://localhost:8080/",
          "height": 270
        },
        "id": "q8fLsCmL_7YO",
        "outputId": "ede42ca3-53cc-46e3-90f9-22756155c952"
      },
      "source": [
        "alldata_.head()   "
      ],
      "execution_count": null,
      "outputs": [
        {
          "output_type": "execute_result",
          "data": {
            "text/html": [
              "<div>\n",
              "<style scoped>\n",
              "    .dataframe tbody tr th:only-of-type {\n",
              "        vertical-align: middle;\n",
              "    }\n",
              "\n",
              "    .dataframe tbody tr th {\n",
              "        vertical-align: top;\n",
              "    }\n",
              "\n",
              "    .dataframe thead th {\n",
              "        text-align: right;\n",
              "    }\n",
              "</style>\n",
              "<table border=\"1\" class=\"dataframe\">\n",
              "  <thead>\n",
              "    <tr style=\"text-align: right;\">\n",
              "      <th></th>\n",
              "      <th>Gender</th>\n",
              "      <th>Customer Type</th>\n",
              "      <th>Age</th>\n",
              "      <th>Type of Travel</th>\n",
              "      <th>Class</th>\n",
              "      <th>Flight Distance</th>\n",
              "      <th>Seat comfort</th>\n",
              "      <th>Departure/Arrival time convenient</th>\n",
              "      <th>Food and drink</th>\n",
              "      <th>Gate location</th>\n",
              "      <th>Inflight wifi service</th>\n",
              "      <th>Inflight entertainment</th>\n",
              "      <th>Online support</th>\n",
              "      <th>Ease of Online booking</th>\n",
              "      <th>On-board service</th>\n",
              "      <th>Leg room service</th>\n",
              "      <th>Baggage handling</th>\n",
              "      <th>Checkin service</th>\n",
              "      <th>Cleanliness</th>\n",
              "      <th>Online boarding</th>\n",
              "      <th>Departure Delay in Minutes</th>\n",
              "      <th>Arrival Delay in Minutes</th>\n",
              "      <th>satisfaction</th>\n",
              "    </tr>\n",
              "  </thead>\n",
              "  <tbody>\n",
              "    <tr>\n",
              "      <th>105527</th>\n",
              "      <td>1</td>\n",
              "      <td>1</td>\n",
              "      <td>39</td>\n",
              "      <td>1</td>\n",
              "      <td>1</td>\n",
              "      <td>2725</td>\n",
              "      <td>5</td>\n",
              "      <td>5</td>\n",
              "      <td>2</td>\n",
              "      <td>5</td>\n",
              "      <td>4</td>\n",
              "      <td>4</td>\n",
              "      <td>5</td>\n",
              "      <td>4</td>\n",
              "      <td>4</td>\n",
              "      <td>4</td>\n",
              "      <td>4</td>\n",
              "      <td>4</td>\n",
              "      <td>4</td>\n",
              "      <td>4</td>\n",
              "      <td>73</td>\n",
              "      <td>65.0</td>\n",
              "      <td>1</td>\n",
              "    </tr>\n",
              "    <tr>\n",
              "      <th>82617</th>\n",
              "      <td>1</td>\n",
              "      <td>1</td>\n",
              "      <td>27</td>\n",
              "      <td>1</td>\n",
              "      <td>1</td>\n",
              "      <td>1634</td>\n",
              "      <td>3</td>\n",
              "      <td>3</td>\n",
              "      <td>3</td>\n",
              "      <td>3</td>\n",
              "      <td>3</td>\n",
              "      <td>3</td>\n",
              "      <td>3</td>\n",
              "      <td>3</td>\n",
              "      <td>3</td>\n",
              "      <td>4</td>\n",
              "      <td>4</td>\n",
              "      <td>2</td>\n",
              "      <td>3</td>\n",
              "      <td>3</td>\n",
              "      <td>39</td>\n",
              "      <td>37.0</td>\n",
              "      <td>0</td>\n",
              "    </tr>\n",
              "    <tr>\n",
              "      <th>34069</th>\n",
              "      <td>1</td>\n",
              "      <td>1</td>\n",
              "      <td>21</td>\n",
              "      <td>0</td>\n",
              "      <td>2</td>\n",
              "      <td>1341</td>\n",
              "      <td>4</td>\n",
              "      <td>4</td>\n",
              "      <td>0</td>\n",
              "      <td>1</td>\n",
              "      <td>1</td>\n",
              "      <td>0</td>\n",
              "      <td>1</td>\n",
              "      <td>1</td>\n",
              "      <td>4</td>\n",
              "      <td>1</td>\n",
              "      <td>3</td>\n",
              "      <td>5</td>\n",
              "      <td>4</td>\n",
              "      <td>1</td>\n",
              "      <td>0</td>\n",
              "      <td>0.0</td>\n",
              "      <td>1</td>\n",
              "    </tr>\n",
              "    <tr>\n",
              "      <th>18636</th>\n",
              "      <td>0</td>\n",
              "      <td>1</td>\n",
              "      <td>64</td>\n",
              "      <td>0</td>\n",
              "      <td>2</td>\n",
              "      <td>3794</td>\n",
              "      <td>2</td>\n",
              "      <td>5</td>\n",
              "      <td>2</td>\n",
              "      <td>4</td>\n",
              "      <td>2</td>\n",
              "      <td>1</td>\n",
              "      <td>1</td>\n",
              "      <td>5</td>\n",
              "      <td>3</td>\n",
              "      <td>3</td>\n",
              "      <td>5</td>\n",
              "      <td>1</td>\n",
              "      <td>4</td>\n",
              "      <td>1</td>\n",
              "      <td>570</td>\n",
              "      <td>567.0</td>\n",
              "      <td>0</td>\n",
              "    </tr>\n",
              "    <tr>\n",
              "      <th>28693</th>\n",
              "      <td>1</td>\n",
              "      <td>1</td>\n",
              "      <td>69</td>\n",
              "      <td>0</td>\n",
              "      <td>3</td>\n",
              "      <td>1237</td>\n",
              "      <td>5</td>\n",
              "      <td>5</td>\n",
              "      <td>5</td>\n",
              "      <td>5</td>\n",
              "      <td>4</td>\n",
              "      <td>5</td>\n",
              "      <td>5</td>\n",
              "      <td>5</td>\n",
              "      <td>5</td>\n",
              "      <td>5</td>\n",
              "      <td>5</td>\n",
              "      <td>3</td>\n",
              "      <td>5</td>\n",
              "      <td>4</td>\n",
              "      <td>69</td>\n",
              "      <td>72.0</td>\n",
              "      <td>1</td>\n",
              "    </tr>\n",
              "  </tbody>\n",
              "</table>\n",
              "</div>"
            ],
            "text/plain": [
              "       Gender Customer Type  ...  Arrival Delay in Minutes satisfaction\n",
              "105527      1             1  ...                      65.0            1\n",
              "82617       1             1  ...                      37.0            0\n",
              "34069       1             1  ...                       0.0            1\n",
              "18636       0             1  ...                     567.0            0\n",
              "28693       1             1  ...                      72.0            1\n",
              "\n",
              "[5 rows x 23 columns]"
            ]
          },
          "metadata": {
            "tags": []
          },
          "execution_count": 165
        }
      ]
    },
    {
      "cell_type": "code",
      "metadata": {
        "colab": {
          "base_uri": "https://localhost:8080/",
          "height": 708
        },
        "id": "MOU0v9a1_8n-",
        "outputId": "7c16a82d-ea89-4d2a-ddf1-3b03e17e4d7a"
      },
      "source": [
        "info(alldata_)"
      ],
      "execution_count": null,
      "outputs": [
        {
          "output_type": "execute_result",
          "data": {
            "text/html": [
              "<div>\n",
              "<style scoped>\n",
              "    .dataframe tbody tr th:only-of-type {\n",
              "        vertical-align: middle;\n",
              "    }\n",
              "\n",
              "    .dataframe tbody tr th {\n",
              "        vertical-align: top;\n",
              "    }\n",
              "\n",
              "    .dataframe thead th {\n",
              "        text-align: right;\n",
              "    }\n",
              "</style>\n",
              "<table border=\"1\" class=\"dataframe\">\n",
              "  <thead>\n",
              "    <tr style=\"text-align: right;\">\n",
              "      <th></th>\n",
              "      <th>colname</th>\n",
              "      <th>dtype</th>\n",
              "      <th>unique_value</th>\n",
              "      <th>unique_count</th>\n",
              "    </tr>\n",
              "  </thead>\n",
              "  <tbody>\n",
              "    <tr>\n",
              "      <th>0</th>\n",
              "      <td>Gender</td>\n",
              "      <td>object</td>\n",
              "      <td>[1, 0]</td>\n",
              "      <td>2</td>\n",
              "    </tr>\n",
              "    <tr>\n",
              "      <th>1</th>\n",
              "      <td>Customer Type</td>\n",
              "      <td>object</td>\n",
              "      <td>[1, 0]</td>\n",
              "      <td>2</td>\n",
              "    </tr>\n",
              "    <tr>\n",
              "      <th>2</th>\n",
              "      <td>Age</td>\n",
              "      <td>int64</td>\n",
              "      <td>[39, 27, 21, 64, 69, 36, 29, 62, 22, 58, 37, 5...</td>\n",
              "      <td>75</td>\n",
              "    </tr>\n",
              "    <tr>\n",
              "      <th>3</th>\n",
              "      <td>Type of Travel</td>\n",
              "      <td>object</td>\n",
              "      <td>[1, 0]</td>\n",
              "      <td>2</td>\n",
              "    </tr>\n",
              "    <tr>\n",
              "      <th>4</th>\n",
              "      <td>Class</td>\n",
              "      <td>object</td>\n",
              "      <td>[1, 2, 3]</td>\n",
              "      <td>3</td>\n",
              "    </tr>\n",
              "    <tr>\n",
              "      <th>5</th>\n",
              "      <td>Flight Distance</td>\n",
              "      <td>int64</td>\n",
              "      <td>[2725, 1634, 1341, 3794, 1237, 2370, 3055, 904...</td>\n",
              "      <td>5002</td>\n",
              "    </tr>\n",
              "    <tr>\n",
              "      <th>6</th>\n",
              "      <td>Seat comfort</td>\n",
              "      <td>object</td>\n",
              "      <td>[5, 3, 4, 2, 0, 1]</td>\n",
              "      <td>6</td>\n",
              "    </tr>\n",
              "    <tr>\n",
              "      <th>7</th>\n",
              "      <td>Departure/Arrival time convenient</td>\n",
              "      <td>object</td>\n",
              "      <td>[5, 3, 4, 2, 1, 0]</td>\n",
              "      <td>6</td>\n",
              "    </tr>\n",
              "    <tr>\n",
              "      <th>8</th>\n",
              "      <td>Food and drink</td>\n",
              "      <td>object</td>\n",
              "      <td>[2, 3, 0, 5, 4, 1]</td>\n",
              "      <td>6</td>\n",
              "    </tr>\n",
              "    <tr>\n",
              "      <th>9</th>\n",
              "      <td>Gate location</td>\n",
              "      <td>object</td>\n",
              "      <td>[5, 3, 1, 4, 2]</td>\n",
              "      <td>5</td>\n",
              "    </tr>\n",
              "    <tr>\n",
              "      <th>10</th>\n",
              "      <td>Inflight wifi service</td>\n",
              "      <td>object</td>\n",
              "      <td>[4, 3, 1, 2, 5, 0]</td>\n",
              "      <td>6</td>\n",
              "    </tr>\n",
              "    <tr>\n",
              "      <th>11</th>\n",
              "      <td>Inflight entertainment</td>\n",
              "      <td>object</td>\n",
              "      <td>[4, 3, 0, 1, 5, 2]</td>\n",
              "      <td>6</td>\n",
              "    </tr>\n",
              "    <tr>\n",
              "      <th>12</th>\n",
              "      <td>Online support</td>\n",
              "      <td>object</td>\n",
              "      <td>[5, 3, 1, 2, 4, 0]</td>\n",
              "      <td>6</td>\n",
              "    </tr>\n",
              "    <tr>\n",
              "      <th>13</th>\n",
              "      <td>Ease of Online booking</td>\n",
              "      <td>object</td>\n",
              "      <td>[4, 3, 1, 5, 2, 0]</td>\n",
              "      <td>6</td>\n",
              "    </tr>\n",
              "    <tr>\n",
              "      <th>14</th>\n",
              "      <td>On-board service</td>\n",
              "      <td>object</td>\n",
              "      <td>[4, 3, 5, 2, 1, 0]</td>\n",
              "      <td>6</td>\n",
              "    </tr>\n",
              "    <tr>\n",
              "      <th>15</th>\n",
              "      <td>Leg room service</td>\n",
              "      <td>object</td>\n",
              "      <td>[4, 1, 3, 5, 2, 0]</td>\n",
              "      <td>6</td>\n",
              "    </tr>\n",
              "    <tr>\n",
              "      <th>16</th>\n",
              "      <td>Baggage handling</td>\n",
              "      <td>object</td>\n",
              "      <td>[4, 3, 5, 2, 1]</td>\n",
              "      <td>5</td>\n",
              "    </tr>\n",
              "    <tr>\n",
              "      <th>17</th>\n",
              "      <td>Checkin service</td>\n",
              "      <td>object</td>\n",
              "      <td>[4, 2, 5, 1, 3, 0]</td>\n",
              "      <td>6</td>\n",
              "    </tr>\n",
              "    <tr>\n",
              "      <th>18</th>\n",
              "      <td>Cleanliness</td>\n",
              "      <td>object</td>\n",
              "      <td>[4, 3, 5, 2, 1, 0]</td>\n",
              "      <td>6</td>\n",
              "    </tr>\n",
              "    <tr>\n",
              "      <th>19</th>\n",
              "      <td>Online boarding</td>\n",
              "      <td>object</td>\n",
              "      <td>[4, 3, 1, 2, 5, 0]</td>\n",
              "      <td>6</td>\n",
              "    </tr>\n",
              "    <tr>\n",
              "      <th>20</th>\n",
              "      <td>Departure Delay in Minutes</td>\n",
              "      <td>int64</td>\n",
              "      <td>[73, 39, 0, 570, 69, 143, 46, 28, 10, 2, 72, 4...</td>\n",
              "      <td>403</td>\n",
              "    </tr>\n",
              "    <tr>\n",
              "      <th>21</th>\n",
              "      <td>Arrival Delay in Minutes</td>\n",
              "      <td>float64</td>\n",
              "      <td>[65.0, 37.0, 0.0, 567.0, 72.0, 126.0, 41.0, 19...</td>\n",
              "      <td>416</td>\n",
              "    </tr>\n",
              "  </tbody>\n",
              "</table>\n",
              "</div>"
            ],
            "text/plain": [
              "                              colname  ... unique_count\n",
              "0                              Gender  ...            2\n",
              "1                       Customer Type  ...            2\n",
              "2                                 Age  ...           75\n",
              "3                      Type of Travel  ...            2\n",
              "4                               Class  ...            3\n",
              "5                     Flight Distance  ...         5002\n",
              "6                        Seat comfort  ...            6\n",
              "7   Departure/Arrival time convenient  ...            6\n",
              "8                      Food and drink  ...            6\n",
              "9                       Gate location  ...            5\n",
              "10              Inflight wifi service  ...            6\n",
              "11             Inflight entertainment  ...            6\n",
              "12                     Online support  ...            6\n",
              "13             Ease of Online booking  ...            6\n",
              "14                   On-board service  ...            6\n",
              "15                   Leg room service  ...            6\n",
              "16                   Baggage handling  ...            5\n",
              "17                    Checkin service  ...            6\n",
              "18                        Cleanliness  ...            6\n",
              "19                    Online boarding  ...            6\n",
              "20         Departure Delay in Minutes  ...          403\n",
              "21           Arrival Delay in Minutes  ...          416\n",
              "\n",
              "[22 rows x 4 columns]"
            ]
          },
          "metadata": {
            "tags": []
          },
          "execution_count": 140
        }
      ]
    },
    {
      "cell_type": "markdown",
      "metadata": {
        "id": "BX6GZZAJGT7a"
      },
      "source": [
        "### train, test split"
      ]
    },
    {
      "cell_type": "code",
      "metadata": {
        "id": "0nXoli4NGXt1"
      },
      "source": [
        "# train2 = alldata_.iloc[train.index]\r\n",
        "# test2 = alldata_.iloc[test.index]\r\n",
        "\r\n",
        "train2 = alldata_[:len(train)]\r\n",
        "test2 = alldata_[len(train):]\r\n",
        "\r\n",
        "train2_x = train2.drop(['satisfaction'],1)\r\n",
        "train2_y = train2['satisfaction']\r\n",
        "\r\n",
        "test2_x = test2.drop(['satisfaction'],1)\r\n",
        "test2_y = test2['satisfaction']"
      ],
      "execution_count": null,
      "outputs": []
    },
    {
      "cell_type": "code",
      "metadata": {
        "colab": {
          "base_uri": "https://localhost:8080/"
        },
        "id": "fhTKxueYGDcD",
        "outputId": "4a26d317-7f88-49b4-a13e-d9c5f5d698ea"
      },
      "source": [
        "sum(train2.index != train.index)"
      ],
      "execution_count": null,
      "outputs": [
        {
          "output_type": "execute_result",
          "data": {
            "text/plain": [
              "0"
            ]
          },
          "metadata": {
            "tags": []
          },
          "execution_count": 167
        }
      ]
    },
    {
      "cell_type": "markdown",
      "metadata": {
        "id": "D1YF2X3IEVk-"
      },
      "source": [
        "## Modeling"
      ]
    },
    {
      "cell_type": "code",
      "metadata": {
        "colab": {
          "base_uri": "https://localhost:8080/"
        },
        "id": "G5tKUwYzGDgN",
        "outputId": "dc11579c-e5b0-4848-81e1-3b64269a04fc"
      },
      "source": [
        "# 튜닝 전\r\n",
        "## default : n_estimator: 100 /  min_samples_leaf: 1 / max_samples_split: 2 / max_features : 루트(p) / max_depth = None (트리의 최대깊이)\r\n",
        "from sklearn.ensemble import RandomForestClassifier\r\n",
        "rf = RandomForestClassifier(random_state = 0) \r\n",
        "rf.fit(train2_x, train2_y)\r\n",
        "y_pred = rf.predict(test2_x)\r\n",
        "misc_rate(test2_y,y_pred)"
      ],
      "execution_count": null,
      "outputs": [
        {
          "output_type": "execute_result",
          "data": {
            "text/plain": [
              "0.04448219939763687"
            ]
          },
          "metadata": {
            "tags": []
          },
          "execution_count": 155
        }
      ]
    },
    {
      "cell_type": "code",
      "metadata": {
        "colab": {
          "base_uri": "https://localhost:8080/"
        },
        "id": "ZBvXJEm3IDNx",
        "outputId": "a0b655f8-b88a-4a5f-9131-f0430ae5da40"
      },
      "source": [
        "# 그리드 서치 튜닝 후\r\n",
        "params = {\r\n",
        "    'n_estimators':[100,300],\r\n",
        "    'max_depth': [6,8,10],\r\n",
        "    'min_samples_leaf':[8,12,18],\r\n",
        "    'min_samples_split':[8,16,20]\r\n",
        "}\r\n",
        "\r\n",
        "rf = RandomForestClassifier(random_state = 0, n_jobs=-1)\r\n",
        "grid_cv = GridSearchCV(rf, param_grid=params, cv=3, n_jobs=-1)\r\n",
        "grid_cv.fit(train2_x, train2_y)\r\n",
        "\r\n",
        "print(grid_cv.best_params_)\r\n",
        "print(grid_cv.best_score_)"
      ],
      "execution_count": null,
      "outputs": [
        {
          "output_type": "stream",
          "text": [
            "{'max_depth': 10, 'min_samples_leaf': 8, 'min_samples_split': 8, 'n_estimators': 100}\n",
            "0.9255705483611023\n"
          ],
          "name": "stdout"
        }
      ]
    },
    {
      "cell_type": "code",
      "metadata": {
        "colab": {
          "base_uri": "https://localhost:8080/"
        },
        "id": "y0-jYhEdJgXR",
        "outputId": "f6eccac2-8b5b-4eb3-e93e-e4c0819b386c"
      },
      "source": [
        "rf = RandomForestClassifier(random_state = 0, max_depth=10, min_samples_leaf=8, min_samples_split=8, n_estimators=100)\r\n",
        "rf.fit(train2_x, train2_y)\r\n",
        "y_pred = rf.predict(test2_x)\r\n",
        "misc_rate(test2_y,y_pred)"
      ],
      "execution_count": null,
      "outputs": [
        {
          "output_type": "execute_result",
          "data": {
            "text/plain": [
              "0.07205189589929728"
            ]
          },
          "metadata": {
            "tags": []
          },
          "execution_count": 168
        }
      ]
    },
    {
      "cell_type": "markdown",
      "metadata": {
        "id": "y2hhmskUYZcj"
      },
      "source": [
        "## 결론 3 :\r\n",
        "- 1. 범주를 숫자로 맵핑 \r\n",
        "- 2. 카테고리의 성격을 띠는 숫자형 변수를 문자형변수로 바꿈\r\n",
        "- 3. 랜덤포레스트 모델\r\n",
        "- 1) 튜닝 전 : 0.04448219939763687\r\n",
        "- 2) 튜닝 후 : 0.07205189589929728\r\n",
        "\r\n"
      ]
    },
    {
      "cell_type": "markdown",
      "metadata": {
        "id": "hBmDqDoDbPDs"
      },
      "source": [
        "#### 변수 중요도 시각화"
      ]
    },
    {
      "cell_type": "code",
      "metadata": {
        "colab": {
          "base_uri": "https://localhost:8080/"
        },
        "id": "7pPxQv03bfs4",
        "outputId": "484396c7-f906-4dac-afdf-ebca01b959d1"
      },
      "source": [
        "rf"
      ],
      "execution_count": null,
      "outputs": [
        {
          "output_type": "execute_result",
          "data": {
            "text/plain": [
              "RandomForestClassifier(bootstrap=True, ccp_alpha=0.0, class_weight=None,\n",
              "                       criterion='gini', max_depth=10, max_features='auto',\n",
              "                       max_leaf_nodes=None, max_samples=None,\n",
              "                       min_impurity_decrease=0.0, min_impurity_split=None,\n",
              "                       min_samples_leaf=8, min_samples_split=8,\n",
              "                       min_weight_fraction_leaf=0.0, n_estimators=100,\n",
              "                       n_jobs=None, oob_score=False, random_state=0, verbose=0,\n",
              "                       warm_start=False)"
            ]
          },
          "metadata": {
            "tags": []
          },
          "execution_count": 169
        }
      ]
    },
    {
      "cell_type": "code",
      "metadata": {
        "id": "2dRA_vUmbWwl"
      },
      "source": [
        "\r\n",
        "col_importances_values = rf.feature_importances_\r\n",
        "# col_importances = pd.Series()"
      ],
      "execution_count": null,
      "outputs": []
    },
    {
      "cell_type": "code",
      "metadata": {
        "colab": {
          "base_uri": "https://localhost:8080/"
        },
        "id": "1ekgoOYgb3Hc",
        "outputId": "f69070db-ac3f-4711-985f-30c25b6234a9"
      },
      "source": [
        "col_importances_values # 리스트 형태"
      ],
      "execution_count": null,
      "outputs": [
        {
          "output_type": "execute_result",
          "data": {
            "text/plain": [
              "array([0.02856752, 0.04826124, 0.00944638, 0.02650897, 0.03904587,\n",
              "       0.01559436, 0.1467954 , 0.01427858, 0.03701218, 0.00815089,\n",
              "       0.01221525, 0.25224085, 0.08160976, 0.08227758, 0.0457226 ,\n",
              "       0.04728011, 0.02020674, 0.01851059, 0.01896692, 0.03811943,\n",
              "       0.00360751, 0.00558127])"
            ]
          },
          "metadata": {
            "tags": []
          },
          "execution_count": 173
        }
      ]
    },
    {
      "cell_type": "code",
      "metadata": {
        "id": "PJkRQIzDb365"
      },
      "source": [
        "col_importances = pd.Series(col_importances_values, index = train2_x.columns)\r\n",
        "top20_imp = col_importances.sort_values(ascending = False)[:20]"
      ],
      "execution_count": null,
      "outputs": []
    },
    {
      "cell_type": "code",
      "metadata": {
        "colab": {
          "base_uri": "https://localhost:8080/"
        },
        "id": "8xyv4vtqdJvH",
        "outputId": "d6f3931d-de00-4d4f-d685-af32fdb778f5"
      },
      "source": [
        "# col_importances\r\n",
        "top20_imp"
      ],
      "execution_count": null,
      "outputs": [
        {
          "output_type": "execute_result",
          "data": {
            "text/plain": [
              "Inflight entertainment               0.252241\n",
              "Seat comfort                         0.146795\n",
              "Ease of Online booking               0.082278\n",
              "Online support                       0.081610\n",
              "Customer Type                        0.048261\n",
              "Leg room service                     0.047280\n",
              "On-board service                     0.045723\n",
              "Class                                0.039046\n",
              "Online boarding                      0.038119\n",
              "Food and drink                       0.037012\n",
              "Gender                               0.028568\n",
              "Type of Travel                       0.026509\n",
              "Baggage handling                     0.020207\n",
              "Cleanliness                          0.018967\n",
              "Checkin service                      0.018511\n",
              "Flight Distance                      0.015594\n",
              "Departure/Arrival time convenient    0.014279\n",
              "Inflight wifi service                0.012215\n",
              "Age                                  0.009446\n",
              "Gate location                        0.008151\n",
              "dtype: float64"
            ]
          },
          "metadata": {
            "tags": []
          },
          "execution_count": 181
        }
      ]
    },
    {
      "cell_type": "code",
      "metadata": {
        "colab": {
          "base_uri": "https://localhost:8080/",
          "height": 517
        },
        "id": "fV3XbBQhcm09",
        "outputId": "bdef7370-8298-4c19-aaf5-559529ec1a4c"
      },
      "source": [
        "plt.figure(figsize=(10,8))\r\n",
        "plt.title('Feature Importances Top 20')\r\n",
        "sns.barplot(x = top20_imp, y= top20_imp.index)\r\n"
      ],
      "execution_count": null,
      "outputs": [
        {
          "output_type": "execute_result",
          "data": {
            "text/plain": [
              "<matplotlib.axes._subplots.AxesSubplot at 0x7fe3dbb16eb8>"
            ]
          },
          "metadata": {
            "tags": []
          },
          "execution_count": 177
        },
        {
          "output_type": "display_data",
          "data": {
            "image/png": "[encoded data removed]",
            "text/plain": [
              "<Figure size 720x576 with 1 Axes>"
            ]
          },
          "metadata": {
            "tags": [],
            "needs_background": "light"
          }
        }
      ]
    },
    {
      "cell_type": "code",
      "metadata": {
        "id": "NBSFJ4FCc8-B"
      },
      "source": [
        ""
      ],
      "execution_count": null,
      "outputs": []
    }
  ]
}